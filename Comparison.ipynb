{
 "cells": [
  {
   "cell_type": "markdown",
   "metadata": {},
   "source": [
    "# Energy data analysis\n",
    "\n",
    "### This projects takes the energy information from BP statistical review\n",
    "\n",
    "### The source link for the excel file is https://www.bp.com/content/dam/bp/business-sites/en/global/corporate/xlsx/energy-economics/statistical-review/bp-stats-review-2019-all-data.xlsx\n",
    "\n",
    "#### The file has sort of energy information: the ones used for this project is:\n",
    "\n",
    "##### Oil Production - Tonnes\n",
    "##### Gas Production - Mtoe\n",
    "##### Coal Production - Mtoe\n",
    "##### Nuclear Generation - TWh\n",
    "##### Hydro Generation - TWh\n",
    "##### Solar Generation - TWh displays the solar generation in TWh from 1965 til 2018\n",
    "##### Wind Generation - TWh displays the wind generation in TWh from 1965 til 2018\n",
    "##### Geo Biomass Other - TWh displays the geo+biomass+other generation in TWh from 1965 til 2018\n",
    "##### Biofuels Production - Ktoe***\n",
    "##### Carbon Dioxide Emissions displays the carbon emission in Million tonnes from 1965 til 2018"
   ]
  },
  {
   "cell_type": "markdown",
   "metadata": {},
   "source": [
    "### 1. Import libraries"
   ]
  },
  {
   "cell_type": "code",
   "execution_count": 1,
   "metadata": {},
   "outputs": [
    {
     "name": "stdout",
     "output_type": "stream",
     "text": [
      "libraries imported\n"
     ]
    }
   ],
   "source": [
    "import pandas as pd\n",
    "import matplotlib.pyplot as plt\n",
    "import seaborn as sns\n",
    "import numpy as np\n",
    "\n",
    "print('libraries imported')"
   ]
  },
  {
   "cell_type": "markdown",
   "metadata": {},
   "source": [
    "### 2. Take all places, countries and regions"
   ]
  },
  {
   "cell_type": "code",
   "execution_count": 2,
   "metadata": {},
   "outputs": [
    {
     "data": {
      "text/plain": [
       "Index(['Canada', 'Mexico', 'US', 'Total North America', 'Argentina', 'Brazil',\n",
       "       'Chile', 'Colombia', 'Ecuador', 'Peru', 'Trinidad & Tobago',\n",
       "       'Venezuela', 'Central America', 'Other Caribbean',\n",
       "       'Other South America', 'Total S. & Cent. America', 'Austria', 'Belgium',\n",
       "       'Bulgaria', 'Croatia', 'Cyprus', 'Czech Republic', 'Denmark', 'Estonia',\n",
       "       'Finland', 'France', 'Germany', 'Greece', 'Hungary', 'Iceland',\n",
       "       'Ireland', 'Italy', 'Latvia', 'Lithuania', 'Luxembourg', 'Netherlands',\n",
       "       'North Macedonia', 'Norway', 'Poland', 'Portugal', 'Romania',\n",
       "       'Slovakia', 'Slovenia', 'Spain', 'Sweden', 'Switzerland', 'Turkey',\n",
       "       'Ukraine', 'United Kingdom', 'Other Europe', 'Total Europe',\n",
       "       'Azerbaijan', 'Belarus', 'Kazakhstan', 'Russian Federation',\n",
       "       'Turkmenistan', 'USSR', 'Uzbekistan', 'Other CIS', 'Total CIS', 'Iran',\n",
       "       'Iraq', 'Israel', 'Kuwait', 'Oman', 'Qatar', 'Saudi Arabia',\n",
       "       'United Arab Emirates', 'Other Middle East', 'Total Middle East',\n",
       "       'Algeria', 'Egypt', 'Morocco', 'South Africa', 'Eastern Africa',\n",
       "       'Middle Africa', 'Western Africa', 'Other Northern Africa',\n",
       "       'Other Southern Africa', 'Total Africa', 'Australia', 'Bangladesh',\n",
       "       'China', 'China Hong Kong SAR', 'India', 'Indonesia', 'Japan',\n",
       "       'Malaysia', 'New Zealand', 'Pakistan', 'Philippines', 'Singapore',\n",
       "       'South Korea', 'Sri Lanka', 'Taiwan', 'Thailand', 'Vietnam',\n",
       "       'Other Asia Pacific', 'Total Asia Pacific'],\n",
       "      dtype='object', name='Countries')"
      ]
     },
     "execution_count": 2,
     "metadata": {},
     "output_type": "execute_result"
    }
   ],
   "source": [
    "#Take the Places\n",
    "Places = pd.read_excel('bp-stats-review-2019-all-data.xls', sheet_name = 'Primary Energy Consumption', skiprows = 2)\n",
    "Places.rename(columns={'Million tonnes oil equivalent':'Countries'}, inplace =True)\n",
    "Places.set_index('Countries', inplace=True)\n",
    "Places = Places.iloc[:Places.index.get_loc('Total World')]\n",
    "Places.dropna(how='all', axis=0, inplace=True)\n",
    "Places = Places.index\n",
    "Places"
   ]
  },
  {
   "cell_type": "code",
   "execution_count": 3,
   "metadata": {},
   "outputs": [
    {
     "data": {
      "text/plain": [
       "Index(['Canada', 'Mexico', 'US', 'Argentina', 'Brazil', 'Chile', 'Colombia',\n",
       "       'Ecuador', 'Peru', 'Trinidad & Tobago', 'Venezuela', 'Central America',\n",
       "       'Other Caribbean', 'Other South America', 'Austria', 'Belgium',\n",
       "       'Bulgaria', 'Croatia', 'Cyprus', 'Czech Republic', 'Denmark', 'Estonia',\n",
       "       'Finland', 'France', 'Germany', 'Greece', 'Hungary', 'Iceland',\n",
       "       'Ireland', 'Italy', 'Latvia', 'Lithuania', 'Luxembourg', 'Netherlands',\n",
       "       'North Macedonia', 'Norway', 'Poland', 'Portugal', 'Romania',\n",
       "       'Slovakia', 'Slovenia', 'Spain', 'Sweden', 'Switzerland', 'Turkey',\n",
       "       'Ukraine', 'United Kingdom', 'Other Europe', 'Azerbaijan', 'Belarus',\n",
       "       'Kazakhstan', 'Russian Federation', 'Turkmenistan', 'USSR',\n",
       "       'Uzbekistan', 'Other CIS', 'Iran', 'Iraq', 'Israel', 'Kuwait', 'Oman',\n",
       "       'Qatar', 'Saudi Arabia', 'United Arab Emirates', 'Other Middle East',\n",
       "       'Algeria', 'Egypt', 'Morocco', 'South Africa', 'Eastern Africa',\n",
       "       'Middle Africa', 'Western Africa', 'Other Northern Africa',\n",
       "       'Other Southern Africa', 'Australia', 'Bangladesh', 'China',\n",
       "       'China Hong Kong SAR', 'India', 'Indonesia', 'Japan', 'Malaysia',\n",
       "       'New Zealand', 'Pakistan', 'Philippines', 'Singapore', 'South Korea',\n",
       "       'Sri Lanka', 'Taiwan', 'Thailand', 'Vietnam', 'Other Asia Pacific'],\n",
       "      dtype='object', name='Countries')"
      ]
     },
     "execution_count": 3,
     "metadata": {},
     "output_type": "execute_result"
    }
   ],
   "source": [
    "#Take the countries\n",
    "Countries = Places[~Places.str.startswith('Total')]#.sort_values()\n",
    "Countries"
   ]
  },
  {
   "cell_type": "code",
   "execution_count": 4,
   "metadata": {},
   "outputs": [
    {
     "data": {
      "text/plain": [
       "Index(['Total North America', 'Total S. & Cent. America', 'Total Europe',\n",
       "       'Total CIS', 'Total Middle East', 'Total Africa', 'Total Asia Pacific'],\n",
       "      dtype='object', name='Countries')"
      ]
     },
     "execution_count": 4,
     "metadata": {},
     "output_type": "execute_result"
    }
   ],
   "source": [
    "#Take the regions\n",
    "Regions = Places[Places.str.startswith('Total')]\n",
    "Regions"
   ]
  },
  {
   "cell_type": "markdown",
   "metadata": {},
   "source": [
    "### 2. Import energy data"
   ]
  },
  {
   "cell_type": "code",
   "execution_count": 5,
   "metadata": {},
   "outputs": [],
   "source": [
    "#Import the Oil production data\n",
    "Oil = pd.read_excel('bp-stats-review-2019-all-data.xls', sheet_name = 'Oil Production - Tonnes', skiprows = 2)\n",
    "Oil.rename(columns={'Million tonnes':'Countries'}, inplace =True)\n",
    "Oil.set_index('Countries', inplace=True)\n",
    "Oil.dropna(how='all', axis=0, inplace=True)\n",
    "Oil.dropna(how='all', axis=1, inplace=True)\n",
    "Oil.fillna(0, inplace=True)\n",
    "Oil = Oil.iloc[:Oil.index.get_loc('Total World'),:Oil.columns.get_loc(2018)+1]\n",
    "#display(Oil)"
   ]
  },
  {
   "cell_type": "code",
   "execution_count": 6,
   "metadata": {},
   "outputs": [],
   "source": [
    "#Import the Gas production data\n",
    "Gas = pd.read_excel('bp-stats-review-2019-all-data.xls', sheet_name = 'Gas Production - Mtoe', skiprows = 2)\n",
    "Gas.rename(columns={'Million tonnes oil equivalent':'Countries'}, inplace =True)\n",
    "Gas.set_index('Countries', inplace=True)\n",
    "Gas.dropna(how='all', axis=0, inplace=True)\n",
    "Gas.dropna(how='all', axis=1, inplace=True)\n",
    "Gas.fillna(0, inplace=True)\n",
    "Gas = Gas.iloc[:Gas.index.get_loc('Total World'),:Gas.columns.get_loc(2018)+1]\n",
    "#display(Gas)"
   ]
  },
  {
   "cell_type": "code",
   "execution_count": 7,
   "metadata": {},
   "outputs": [],
   "source": [
    "#Import Coal Production data \n",
    "Coal = pd.read_excel('bp-stats-review-2019-all-data.xls', sheet_name = 'Coal Production - Mtoe', skiprows = 2)\n",
    "Coal.rename(columns={'Million tonnes oil equivalent':'Countries'}, inplace =True)\n",
    "Coal.set_index('Countries', inplace=True)\n",
    "Coal.dropna(how='all', axis=0, inplace=True)\n",
    "Coal.dropna(how='all', axis=1, inplace=True)\n",
    "Coal.fillna(0, inplace=True)\n",
    "Coal = Coal.iloc[:Coal.index.get_loc('Total World'),:Coal.columns.get_loc(2018)+1]\n",
    "#display(Coal)"
   ]
  },
  {
   "cell_type": "code",
   "execution_count": 8,
   "metadata": {},
   "outputs": [],
   "source": [
    "#Import the nuclear generation\n",
    "Nuclear = pd.read_excel('bp-stats-review-2019-all-data.xls', sheet_name = 'Nuclear Generation - TWh', skiprows = 2)\n",
    "Nuclear.rename(columns={'Terawatt-hours':'Countries'}, inplace =True)\n",
    "Nuclear.set_index('Countries', inplace=True)\n",
    "Nuclear.dropna(how='all', axis=0, inplace=True)\n",
    "Nuclear.dropna(how='all', axis=1, inplace=True)\n",
    "Nuclear.fillna(0, inplace=True)\n",
    "Nuclear = Nuclear.iloc[:Nuclear.index.get_loc('Total World'),:Nuclear.columns.get_loc(2018)+1]\n",
    "#display(Nuclear)"
   ]
  },
  {
   "cell_type": "code",
   "execution_count": 9,
   "metadata": {},
   "outputs": [],
   "source": [
    "#Import the hydro generation data\n",
    "Hydro = pd.read_excel('bp-stats-review-2019-all-data.xls', sheet_name = 'Hydro Generation - TWh', skiprows = 2)\n",
    "Hydro.rename(columns={'Terawatt-hours':'Countries'}, inplace =True)\n",
    "Hydro.set_index('Countries', inplace=True)\n",
    "Hydro.dropna(how='all', axis=0, inplace=True)\n",
    "Hydro.dropna(how='all', axis=1, inplace=True)\n",
    "Hydro.fillna(0, inplace=True)\n",
    "Hydro = Hydro.iloc[:Hydro.index.get_loc('Total World'),:Hydro.columns.get_loc(2018)+1]\n",
    "#display(Solar)"
   ]
  },
  {
   "cell_type": "code",
   "execution_count": 10,
   "metadata": {},
   "outputs": [],
   "source": [
    "#Import the solar generation data\n",
    "Solar = pd.read_excel('bp-stats-review-2019-all-data.xls', sheet_name = 'Solar Generation - TWh', skiprows = 2)\n",
    "Solar.rename(columns={'Terawatt-hours':'Countries'}, inplace =True)\n",
    "Solar.set_index('Countries', inplace=True)\n",
    "Solar.dropna(how='all', axis=0, inplace=True)\n",
    "Solar.dropna(how='all', axis=1, inplace=True)\n",
    "Solar.fillna(0, inplace=True)\n",
    "Solar = Solar.iloc[:Solar.index.get_loc('Total World'),:Solar.columns.get_loc(2018)+1]\n",
    "#display(Solar)"
   ]
  },
  {
   "cell_type": "code",
   "execution_count": 11,
   "metadata": {},
   "outputs": [],
   "source": [
    "#Import the Wind energy generation data\n",
    "Wind = pd.read_excel('bp-stats-review-2019-all-data.xls', sheet_name = 'Wind Generation - TWh ', skiprows=2)\n",
    "Wind.rename(columns={'Terawatt-hours':'Countries'}, inplace =True)\n",
    "Wind.set_index('Countries', inplace=True)\n",
    "Wind.dropna(how='all', axis=0, inplace=True)\n",
    "Wind.dropna(how='all', axis=1, inplace=True)\n",
    "Wind.fillna(0,inplace=True)\n",
    "Wind = Wind.iloc[:Wind.index.get_loc('Total World'),:Wind.columns.get_loc(2018)+1]\n",
    "#display(Wind)"
   ]
  },
  {
   "cell_type": "code",
   "execution_count": 12,
   "metadata": {},
   "outputs": [],
   "source": [
    "#Import the Other energy generation data\n",
    "Other = pd.read_excel('bp-stats-review-2019-all-data.xls', sheet_name = 'Geo Biomass Other - TWh', skiprows = 2)\n",
    "Other.rename(columns={'Terawatt-hours':'Countries'}, inplace =True)\n",
    "Other.set_index('Countries', inplace=True)\n",
    "Other.dropna(how='all', axis=0, inplace=True)\n",
    "Other.dropna(how='all', axis=1, inplace=True)\n",
    "Other.fillna(0, inplace=True)\n",
    "Other = Other.iloc[:Other.index.get_loc('Total World'),:Other.columns.get_loc(2018)+1]\n",
    "#display(Other)"
   ]
  },
  {
   "cell_type": "code",
   "execution_count": 13,
   "metadata": {},
   "outputs": [],
   "source": [
    "#Import the Carbon Dioxe data\n",
    "Carbon = pd.read_excel('bp-stats-review-2019-all-data.xls', sheet_name = 'Carbon Dioxide Emissions', skiprows = 2)\n",
    "Carbon.rename(columns={'Million tonnes of carbon dioxide':'Countries'}, inplace =True)\n",
    "Carbon.set_index('Countries', inplace=True)\n",
    "Carbon.dropna(how='all', axis=0, inplace=True)\n",
    "Carbon.dropna(how='all', axis=1, inplace=True)\n",
    "Carbon.fillna(0, inplace=True)\n",
    "Carbon = Carbon.iloc[:Carbon.index.get_loc('Total World'),:Carbon.columns.get_loc(2018)+1]\n",
    "#display(Carbon)"
   ]
  },
  {
   "cell_type": "markdown",
   "metadata": {},
   "source": [
    "### 3. Create energy data variables"
   ]
  },
  {
   "cell_type": "code",
   "execution_count": 14,
   "metadata": {},
   "outputs": [],
   "source": [
    "Energy_type = [Oil, Gas, Coal, Nuclear, Hydro, Solar, Wind, Other, Carbon]\n",
    "energy = [\"Oil\",\"Gas\",\"Coal\",\"Nuclear\",\"Hydro\",\"Solar\", \"Wind\", \"Other\", \"Carbon\"]\n",
    "\n",
    "# Create a dict to correlate the Energy with specific color\n",
    "color = ['blue', 'orange', 'green', 'red','purple', 'brown', 'cyan', 'gray', 'olive']\n",
    "dicts = {}\n",
    "for i in range(0,len(energy)):\n",
    "    dicts[energy[i]] = color[i]"
   ]
  },
  {
   "cell_type": "markdown",
   "metadata": {},
   "source": [
    "### 4. Take the countries by region"
   ]
  },
  {
   "cell_type": "code",
   "execution_count": 15,
   "metadata": {},
   "outputs": [
    {
     "data": {
      "text/plain": [
       "Index(['Canada', 'Mexico', 'US'], dtype='object', name='Countries')"
      ]
     },
     "execution_count": 15,
     "metadata": {},
     "output_type": "execute_result"
    }
   ],
   "source": [
    "# Countries in Total North America\n",
    "North_America = Places[:Places.get_loc('Total North America')]\n",
    "North_America"
   ]
  },
  {
   "cell_type": "code",
   "execution_count": 16,
   "metadata": {},
   "outputs": [
    {
     "data": {
      "text/plain": [
       "Index(['Argentina', 'Brazil', 'Chile', 'Colombia', 'Ecuador', 'Peru',\n",
       "       'Trinidad & Tobago', 'Venezuela', 'Central America', 'Other Caribbean',\n",
       "       'Other South America'],\n",
       "      dtype='object', name='Countries')"
      ]
     },
     "execution_count": 16,
     "metadata": {},
     "output_type": "execute_result"
    }
   ],
   "source": [
    "# Countries in Total S. & Cent. America\n",
    "Cent_America = Places[Places.get_loc('Total North America')+1:Places.get_loc('Total S. & Cent. America')]\n",
    "Cent_America"
   ]
  },
  {
   "cell_type": "code",
   "execution_count": 17,
   "metadata": {},
   "outputs": [
    {
     "data": {
      "text/plain": [
       "Index(['Austria', 'Belgium', 'Bulgaria', 'Croatia', 'Cyprus', 'Czech Republic',\n",
       "       'Denmark', 'Estonia', 'Finland', 'France', 'Germany', 'Greece',\n",
       "       'Hungary', 'Iceland', 'Ireland', 'Italy', 'Latvia', 'Lithuania',\n",
       "       'Luxembourg', 'Netherlands', 'North Macedonia', 'Norway', 'Poland',\n",
       "       'Portugal', 'Romania', 'Slovakia', 'Slovenia', 'Spain', 'Sweden',\n",
       "       'Switzerland', 'Turkey', 'Ukraine', 'United Kingdom', 'Other Europe'],\n",
       "      dtype='object', name='Countries')"
      ]
     },
     "execution_count": 17,
     "metadata": {},
     "output_type": "execute_result"
    }
   ],
   "source": [
    "# Countries in Total Europe\n",
    "Europe = Places[Places.get_loc('Total S. & Cent. America')+1:Places.get_loc('Total Europe')]\n",
    "Europe"
   ]
  },
  {
   "cell_type": "code",
   "execution_count": 18,
   "metadata": {},
   "outputs": [
    {
     "data": {
      "text/plain": [
       "Index(['Azerbaijan', 'Belarus', 'Kazakhstan', 'Russian Federation',\n",
       "       'Turkmenistan', 'USSR', 'Uzbekistan', 'Other CIS'],\n",
       "      dtype='object', name='Countries')"
      ]
     },
     "execution_count": 18,
     "metadata": {},
     "output_type": "execute_result"
    }
   ],
   "source": [
    "# Countries in Total CIS\n",
    "CIS = Places[Places.get_loc('Total Europe')+1:Places.get_loc('Total CIS')]\n",
    "CIS"
   ]
  },
  {
   "cell_type": "code",
   "execution_count": 19,
   "metadata": {},
   "outputs": [
    {
     "data": {
      "text/plain": [
       "Index(['Iran', 'Iraq', 'Israel', 'Kuwait', 'Oman', 'Qatar', 'Saudi Arabia',\n",
       "       'United Arab Emirates', 'Other Middle East'],\n",
       "      dtype='object', name='Countries')"
      ]
     },
     "execution_count": 19,
     "metadata": {},
     "output_type": "execute_result"
    }
   ],
   "source": [
    "# Countries in Total Middle East\n",
    "Middle_East = Places[Places.get_loc('Total CIS')+1:Places.get_loc('Total Middle East')]\n",
    "Middle_East"
   ]
  },
  {
   "cell_type": "code",
   "execution_count": 20,
   "metadata": {},
   "outputs": [
    {
     "data": {
      "text/plain": [
       "Index(['Algeria', 'Egypt', 'Morocco', 'South Africa', 'Eastern Africa',\n",
       "       'Middle Africa', 'Western Africa', 'Other Northern Africa',\n",
       "       'Other Southern Africa'],\n",
       "      dtype='object', name='Countries')"
      ]
     },
     "execution_count": 20,
     "metadata": {},
     "output_type": "execute_result"
    }
   ],
   "source": [
    "# Countries in Total Africa\n",
    "Africa = Places[Places.get_loc('Total Middle East')+1:Places.get_loc('Total Africa')]\n",
    "Africa"
   ]
  },
  {
   "cell_type": "code",
   "execution_count": 21,
   "metadata": {},
   "outputs": [
    {
     "data": {
      "text/plain": [
       "Index(['Australia', 'Bangladesh', 'China', 'China Hong Kong SAR', 'India',\n",
       "       'Indonesia', 'Japan', 'Malaysia', 'New Zealand', 'Pakistan',\n",
       "       'Philippines', 'Singapore', 'South Korea', 'Sri Lanka', 'Taiwan',\n",
       "       'Thailand', 'Vietnam', 'Other Asia Pacific'],\n",
       "      dtype='object', name='Countries')"
      ]
     },
     "execution_count": 21,
     "metadata": {},
     "output_type": "execute_result"
    }
   ],
   "source": [
    "# Countries in Total Asia Pacific\n",
    "Asia_Pacific = Places[Places.get_loc('Total Africa')+1:Places.get_loc('Total Asia Pacific')]\n",
    "Asia_Pacific"
   ]
  },
  {
   "cell_type": "code",
   "execution_count": 22,
   "metadata": {},
   "outputs": [],
   "source": [
    "Countries_Region = [North_America,Cent_America,Europe,CIS,Middle_East,Africa,Asia_Pacific]"
   ]
  },
  {
   "cell_type": "markdown",
   "metadata": {},
   "source": [
    "### 5. Correlation table"
   ]
  },
  {
   "cell_type": "code",
   "execution_count": 23,
   "metadata": {},
   "outputs": [
    {
     "name": "stdout",
     "output_type": "stream",
     "text": [
      "Argentina don't have information of Coal\n",
      "Chile don't have information of Oil\n",
      "Chile don't have information of Gas\n",
      "Chile don't have information of Coal\n",
      "Ecuador don't have information of Gas\n",
      "Ecuador don't have information of Coal\n",
      "Peru don't have information of Coal\n",
      "Trinidad & Tobago don't have information of Coal\n",
      "Central America don't have information of Oil\n",
      "Central America don't have information of Gas\n",
      "Central America don't have information of Coal\n",
      "Other Caribbean don't have information of Oil\n",
      "Other Caribbean don't have information of Gas\n",
      "Other Caribbean don't have information of Coal\n",
      "Other South America don't have information of Oil\n",
      "Other South America don't have information of Gas\n",
      "Other South America don't have information of Coal\n",
      "Austria don't have information of Oil\n",
      "Austria don't have information of Gas\n",
      "Austria don't have information of Coal\n",
      "Belgium don't have information of Oil\n",
      "Belgium don't have information of Gas\n",
      "Belgium don't have information of Coal\n",
      "Bulgaria don't have information of Oil\n",
      "Bulgaria don't have information of Gas\n",
      "Croatia don't have information of Oil\n",
      "Croatia don't have information of Gas\n",
      "Croatia don't have information of Coal\n",
      "Croatia don't have information of Nuclear\n",
      "Cyprus don't have information of Oil\n",
      "Cyprus don't have information of Gas\n",
      "Cyprus don't have information of Coal\n"
     ]
    },
    {
     "name": "stderr",
     "output_type": "stream",
     "text": [
      "C:\\Users\\tayze\\AppData\\Local\\Continuum\\anaconda3\\lib\\site-packages\\pandas\\core\\frame.py:7123: FutureWarning: Sorting because non-concatenation axis is not aligned. A future version\n",
      "of pandas will change to not sort by default.\n",
      "\n",
      "To accept the future behavior, pass 'sort=False'.\n",
      "\n",
      "To retain the current behavior and silence the warning, pass 'sort=True'.\n",
      "\n",
      "  sort=sort,\n"
     ]
    },
    {
     "name": "stdout",
     "output_type": "stream",
     "text": [
      "Czech Republic don't have information of Oil\n",
      "Czech Republic don't have information of Gas\n",
      "Denmark don't have information of Coal\n",
      "Estonia don't have information of Oil\n",
      "Estonia don't have information of Gas\n",
      "Estonia don't have information of Coal\n",
      "Finland don't have information of Oil\n",
      "Finland don't have information of Gas\n",
      "Finland don't have information of Coal\n",
      "France don't have information of Oil\n",
      "France don't have information of Gas\n",
      "France don't have information of Coal\n",
      "Germany don't have information of Oil\n",
      "Greece don't have information of Oil\n",
      "Greece don't have information of Gas\n",
      "Hungary don't have information of Oil\n",
      "Hungary don't have information of Gas\n",
      "Iceland don't have information of Oil\n",
      "Iceland don't have information of Gas\n",
      "Iceland don't have information of Coal\n",
      "Ireland don't have information of Oil\n",
      "Ireland don't have information of Gas\n",
      "Ireland don't have information of Coal\n",
      "Italy don't have information of Coal\n",
      "Latvia don't have information of Oil\n",
      "Latvia don't have information of Gas\n",
      "Latvia don't have information of Coal\n",
      "Lithuania don't have information of Oil\n",
      "Lithuania don't have information of Gas\n",
      "Lithuania don't have information of Coal\n",
      "Luxembourg don't have information of Oil\n",
      "Luxembourg don't have information of Gas\n",
      "Luxembourg don't have information of Coal\n",
      "Netherlands don't have information of Oil\n",
      "Netherlands don't have information of Coal\n",
      "North Macedonia don't have information of Oil\n",
      "North Macedonia don't have information of Gas\n",
      "North Macedonia don't have information of Coal\n",
      "North Macedonia don't have information of Nuclear\n",
      "Norway don't have information of Coal\n",
      "Poland don't have information of Oil\n",
      "Portugal don't have information of Oil\n",
      "Portugal don't have information of Gas\n",
      "Portugal don't have information of Coal\n",
      "Slovakia don't have information of Oil\n",
      "Slovakia don't have information of Gas\n",
      "Slovakia don't have information of Coal\n",
      "Slovenia don't have information of Oil\n",
      "Slovenia don't have information of Gas\n",
      "Slovenia don't have information of Coal\n",
      "Spain don't have information of Oil\n",
      "Spain don't have information of Gas\n",
      "Sweden don't have information of Oil\n",
      "Sweden don't have information of Gas\n",
      "Sweden don't have information of Coal\n",
      "Switzerland don't have information of Oil\n",
      "Switzerland don't have information of Gas\n",
      "Switzerland don't have information of Coal\n",
      "Turkey don't have information of Oil\n",
      "Turkey don't have information of Gas\n",
      "Ukraine don't have information of Oil\n",
      "Azerbaijan don't have information of Coal\n",
      "Belarus don't have information of Oil\n",
      "Belarus don't have information of Gas\n",
      "Belarus don't have information of Coal\n",
      "Turkmenistan don't have information of Coal\n",
      "Iran don't have information of Coal\n",
      "Iraq don't have information of Coal\n",
      "Israel don't have information of Oil\n",
      "Israel don't have information of Gas\n",
      "Israel don't have information of Coal\n",
      "Kuwait don't have information of Coal\n",
      "Oman don't have information of Coal\n",
      "Qatar don't have information of Coal\n",
      "Saudi Arabia don't have information of Coal\n",
      "United Arab Emirates don't have information of Coal\n",
      "Other Middle East don't have information of Coal\n",
      "Algeria don't have information of Coal\n",
      "Egypt don't have information of Coal\n",
      "Morocco don't have information of Oil\n",
      "Morocco don't have information of Gas\n",
      "Morocco don't have information of Coal\n",
      "South Africa don't have information of Oil\n",
      "South Africa don't have information of Gas\n",
      "Eastern Africa don't have information of Oil\n",
      "Eastern Africa don't have information of Gas\n",
      "Eastern Africa don't have information of Coal\n",
      "Middle Africa don't have information of Oil\n",
      "Middle Africa don't have information of Gas\n",
      "Middle Africa don't have information of Coal\n",
      "Western Africa don't have information of Oil\n",
      "Western Africa don't have information of Gas\n",
      "Western Africa don't have information of Coal\n",
      "Other Northern Africa don't have information of Oil\n",
      "Other Northern Africa don't have information of Gas\n",
      "Other Northern Africa don't have information of Coal\n",
      "Other Northern Africa don't have information of Other\n",
      "Other Southern Africa don't have information of Oil\n",
      "Other Southern Africa don't have information of Gas\n",
      "Other Southern Africa don't have information of Coal\n",
      "Other Southern Africa don't have information of Nuclear\n",
      "Bangladesh don't have information of Oil\n",
      "Bangladesh don't have information of Coal\n",
      "China Hong Kong SAR don't have information of Oil\n",
      "China Hong Kong SAR don't have information of Gas\n",
      "China Hong Kong SAR don't have information of Coal\n",
      "Japan don't have information of Oil\n",
      "Japan don't have information of Gas\n",
      "Malaysia don't have information of Coal\n",
      "New Zealand don't have information of Oil\n",
      "New Zealand don't have information of Gas\n",
      "Pakistan don't have information of Oil\n",
      "Philippines don't have information of Oil\n",
      "Philippines don't have information of Gas\n",
      "Philippines don't have information of Coal\n",
      "Singapore don't have information of Oil\n",
      "Singapore don't have information of Gas\n",
      "Singapore don't have information of Coal\n",
      "South Korea don't have information of Oil\n",
      "South Korea don't have information of Gas\n",
      "Sri Lanka don't have information of Oil\n",
      "Sri Lanka don't have information of Gas\n",
      "Sri Lanka don't have information of Coal\n",
      "Taiwan don't have information of Oil\n",
      "Taiwan don't have information of Gas\n",
      "Taiwan don't have information of Coal\n"
     ]
    }
   ],
   "source": [
    "# Create the correlation table for all the countries\n",
    "a = pd.DataFrame([])\n",
    "m=0\n",
    "for j in Countries:\n",
    "    type_energy = []\n",
    "    n=0\n",
    "    Table = []\n",
    "    for i in Energy_type:\n",
    "        try:\n",
    "            Table.append(i.loc[j])\n",
    "            type_energy.append(energy[n])\n",
    "        except KeyError:\n",
    "            print(f\"{j} don't have information of {energy[n]}\")\n",
    "\n",
    "        n+=1\n",
    "\n",
    "    Table=pd.DataFrame(Table)\n",
    "    Table.index=type_energy\n",
    "    Table = Table[(Table.T != 0).any()]\n",
    "    Table=Table.transpose()\n",
    "    x = Table.corr()\n",
    "    x = x.tail(1)\n",
    "    x.replace({1.0:j}, inplace=True)\n",
    "    a = a.append(x)\n",
    "    m+=1\n"
   ]
  },
  {
   "cell_type": "code",
   "execution_count": 24,
   "metadata": {},
   "outputs": [
    {
     "data": {
      "text/html": [
       "<div>\n",
       "<style scoped>\n",
       "    .dataframe tbody tr th:only-of-type {\n",
       "        vertical-align: middle;\n",
       "    }\n",
       "\n",
       "    .dataframe tbody tr th {\n",
       "        vertical-align: top;\n",
       "    }\n",
       "\n",
       "    .dataframe thead th {\n",
       "        text-align: right;\n",
       "    }\n",
       "</style>\n",
       "<table border=\"1\" class=\"dataframe\">\n",
       "  <thead>\n",
       "    <tr style=\"text-align: right;\">\n",
       "      <th></th>\n",
       "      <th>Countries</th>\n",
       "      <th>Coal</th>\n",
       "      <th>Gas</th>\n",
       "      <th>Hydro</th>\n",
       "      <th>Nuclear</th>\n",
       "      <th>Oil</th>\n",
       "      <th>Other</th>\n",
       "      <th>Solar</th>\n",
       "      <th>Wind</th>\n",
       "    </tr>\n",
       "  </thead>\n",
       "  <tbody>\n",
       "    <tr>\n",
       "      <td>Carbon</td>\n",
       "      <td>Canada</td>\n",
       "      <td>0.076312</td>\n",
       "      <td>0.937727</td>\n",
       "      <td>0.912657</td>\n",
       "      <td>0.854412</td>\n",
       "      <td>0.852756</td>\n",
       "      <td>0.916753</td>\n",
       "      <td>0.448614</td>\n",
       "      <td>0.519656</td>\n",
       "    </tr>\n",
       "    <tr>\n",
       "      <td>Carbon</td>\n",
       "      <td>Mexico</td>\n",
       "      <td>0.93808</td>\n",
       "      <td>0.953441</td>\n",
       "      <td>0.886887</td>\n",
       "      <td>0.899477</td>\n",
       "      <td>0.769522</td>\n",
       "      <td>0.937109</td>\n",
       "      <td>0.343604</td>\n",
       "      <td>0.538245</td>\n",
       "    </tr>\n",
       "    <tr>\n",
       "      <td>Carbon</td>\n",
       "      <td>US</td>\n",
       "      <td>0.640129</td>\n",
       "      <td>0.0882985</td>\n",
       "      <td>0.220581</td>\n",
       "      <td>0.874649</td>\n",
       "      <td>-0.621165</td>\n",
       "      <td>0.824446</td>\n",
       "      <td>0.103877</td>\n",
       "      <td>0.237046</td>\n",
       "    </tr>\n",
       "    <tr>\n",
       "      <td>Carbon</td>\n",
       "      <td>Argentina</td>\n",
       "      <td>NaN</td>\n",
       "      <td>0.819794</td>\n",
       "      <td>0.847522</td>\n",
       "      <td>0.653756</td>\n",
       "      <td>0.484824</td>\n",
       "      <td>0.964978</td>\n",
       "      <td>0.455181</td>\n",
       "      <td>0.695389</td>\n",
       "    </tr>\n",
       "    <tr>\n",
       "      <td>Carbon</td>\n",
       "      <td>Brazil</td>\n",
       "      <td>-0.28791</td>\n",
       "      <td>0.964477</td>\n",
       "      <td>0.958136</td>\n",
       "      <td>0.906172</td>\n",
       "      <td>0.959684</td>\n",
       "      <td>0.892131</td>\n",
       "      <td>0.281267</td>\n",
       "      <td>0.555754</td>\n",
       "    </tr>\n",
       "    <tr>\n",
       "      <td>...</td>\n",
       "      <td>...</td>\n",
       "      <td>...</td>\n",
       "      <td>...</td>\n",
       "      <td>...</td>\n",
       "      <td>...</td>\n",
       "      <td>...</td>\n",
       "      <td>...</td>\n",
       "      <td>...</td>\n",
       "      <td>...</td>\n",
       "    </tr>\n",
       "    <tr>\n",
       "      <td>Carbon</td>\n",
       "      <td>Sri Lanka</td>\n",
       "      <td>NaN</td>\n",
       "      <td>NaN</td>\n",
       "      <td>0.802698</td>\n",
       "      <td>NaN</td>\n",
       "      <td>NaN</td>\n",
       "      <td>0.774</td>\n",
       "      <td>0.653505</td>\n",
       "      <td>0.75897</td>\n",
       "    </tr>\n",
       "    <tr>\n",
       "      <td>Carbon</td>\n",
       "      <td>Taiwan</td>\n",
       "      <td>NaN</td>\n",
       "      <td>NaN</td>\n",
       "      <td>0.0889466</td>\n",
       "      <td>0.859332</td>\n",
       "      <td>NaN</td>\n",
       "      <td>0.911818</td>\n",
       "      <td>0.40668</td>\n",
       "      <td>0.646956</td>\n",
       "    </tr>\n",
       "    <tr>\n",
       "      <td>Carbon</td>\n",
       "      <td>Thailand</td>\n",
       "      <td>0.66493</td>\n",
       "      <td>0.976489</td>\n",
       "      <td>0.759222</td>\n",
       "      <td>NaN</td>\n",
       "      <td>0.960473</td>\n",
       "      <td>0.77351</td>\n",
       "      <td>0.564777</td>\n",
       "      <td>0.55368</td>\n",
       "    </tr>\n",
       "    <tr>\n",
       "      <td>Carbon</td>\n",
       "      <td>Vietnam</td>\n",
       "      <td>0.880569</td>\n",
       "      <td>0.955017</td>\n",
       "      <td>0.978323</td>\n",
       "      <td>NaN</td>\n",
       "      <td>0.734908</td>\n",
       "      <td>0.863412</td>\n",
       "      <td>0.509448</td>\n",
       "      <td>0.834941</td>\n",
       "    </tr>\n",
       "    <tr>\n",
       "      <td>Carbon</td>\n",
       "      <td>Other Asia Pacific</td>\n",
       "      <td>0.91152</td>\n",
       "      <td>0.251362</td>\n",
       "      <td>0.358748</td>\n",
       "      <td>NaN</td>\n",
       "      <td>0.346899</td>\n",
       "      <td>0.253574</td>\n",
       "      <td>0.289489</td>\n",
       "      <td>0.270769</td>\n",
       "    </tr>\n",
       "  </tbody>\n",
       "</table>\n",
       "<p>92 rows × 9 columns</p>\n",
       "</div>"
      ],
      "text/plain": [
       "                 Countries      Coal        Gas      Hydro   Nuclear  \\\n",
       "Carbon              Canada  0.076312   0.937727   0.912657  0.854412   \n",
       "Carbon              Mexico   0.93808   0.953441   0.886887  0.899477   \n",
       "Carbon                  US  0.640129  0.0882985   0.220581  0.874649   \n",
       "Carbon           Argentina       NaN   0.819794   0.847522  0.653756   \n",
       "Carbon              Brazil  -0.28791   0.964477   0.958136  0.906172   \n",
       "...                    ...       ...        ...        ...       ...   \n",
       "Carbon           Sri Lanka       NaN        NaN   0.802698       NaN   \n",
       "Carbon              Taiwan       NaN        NaN  0.0889466  0.859332   \n",
       "Carbon            Thailand   0.66493   0.976489   0.759222       NaN   \n",
       "Carbon             Vietnam  0.880569   0.955017   0.978323       NaN   \n",
       "Carbon  Other Asia Pacific   0.91152   0.251362   0.358748       NaN   \n",
       "\n",
       "             Oil     Other     Solar      Wind  \n",
       "Carbon  0.852756  0.916753  0.448614  0.519656  \n",
       "Carbon  0.769522  0.937109  0.343604  0.538245  \n",
       "Carbon -0.621165  0.824446  0.103877  0.237046  \n",
       "Carbon  0.484824  0.964978  0.455181  0.695389  \n",
       "Carbon  0.959684  0.892131  0.281267  0.555754  \n",
       "...          ...       ...       ...       ...  \n",
       "Carbon       NaN     0.774  0.653505   0.75897  \n",
       "Carbon       NaN  0.911818   0.40668  0.646956  \n",
       "Carbon  0.960473   0.77351  0.564777   0.55368  \n",
       "Carbon  0.734908  0.863412  0.509448  0.834941  \n",
       "Carbon  0.346899  0.253574  0.289489  0.270769  \n",
       "\n",
       "[92 rows x 9 columns]"
      ]
     },
     "metadata": {},
     "output_type": "display_data"
    }
   ],
   "source": [
    "# Set the correlation with Carbon for each countrie\n",
    "a.rename(columns={'Carbon':'Countries'}, inplace =True)\n",
    "display(a)"
   ]
  },
  {
   "cell_type": "code",
   "execution_count": 36,
   "metadata": {},
   "outputs": [
    {
     "data": {
      "text/html": [
       "<div>\n",
       "<style scoped>\n",
       "    .dataframe tbody tr th:only-of-type {\n",
       "        vertical-align: middle;\n",
       "    }\n",
       "\n",
       "    .dataframe tbody tr th {\n",
       "        vertical-align: top;\n",
       "    }\n",
       "\n",
       "    .dataframe thead th {\n",
       "        text-align: right;\n",
       "    }\n",
       "</style>\n",
       "<table border=\"1\" class=\"dataframe\">\n",
       "  <thead>\n",
       "    <tr style=\"text-align: right;\">\n",
       "      <th></th>\n",
       "      <th>Coal</th>\n",
       "      <th>Gas</th>\n",
       "      <th>Hydro</th>\n",
       "      <th>Nuclear</th>\n",
       "      <th>Oil</th>\n",
       "      <th>Other</th>\n",
       "      <th>Solar</th>\n",
       "      <th>Wind</th>\n",
       "    </tr>\n",
       "    <tr>\n",
       "      <th>Countries</th>\n",
       "      <th></th>\n",
       "      <th></th>\n",
       "      <th></th>\n",
       "      <th></th>\n",
       "      <th></th>\n",
       "      <th></th>\n",
       "      <th></th>\n",
       "      <th></th>\n",
       "    </tr>\n",
       "  </thead>\n",
       "  <tbody>\n",
       "    <tr>\n",
       "      <td>Canada</td>\n",
       "      <td>0.076312</td>\n",
       "      <td>0.937727</td>\n",
       "      <td>0.912657</td>\n",
       "      <td>0.854412</td>\n",
       "      <td>0.852756</td>\n",
       "      <td>0.916753</td>\n",
       "      <td>0.448614</td>\n",
       "      <td>0.519656</td>\n",
       "    </tr>\n",
       "    <tr>\n",
       "      <td>Mexico</td>\n",
       "      <td>0.93808</td>\n",
       "      <td>0.953441</td>\n",
       "      <td>0.886887</td>\n",
       "      <td>0.899477</td>\n",
       "      <td>0.769522</td>\n",
       "      <td>0.937109</td>\n",
       "      <td>0.343604</td>\n",
       "      <td>0.538245</td>\n",
       "    </tr>\n",
       "    <tr>\n",
       "      <td>US</td>\n",
       "      <td>0.640129</td>\n",
       "      <td>0.0882985</td>\n",
       "      <td>0.220581</td>\n",
       "      <td>0.874649</td>\n",
       "      <td>-0.621165</td>\n",
       "      <td>0.824446</td>\n",
       "      <td>0.103877</td>\n",
       "      <td>0.237046</td>\n",
       "    </tr>\n",
       "    <tr>\n",
       "      <td>Argentina</td>\n",
       "      <td>NaN</td>\n",
       "      <td>0.819794</td>\n",
       "      <td>0.847522</td>\n",
       "      <td>0.653756</td>\n",
       "      <td>0.484824</td>\n",
       "      <td>0.964978</td>\n",
       "      <td>0.455181</td>\n",
       "      <td>0.695389</td>\n",
       "    </tr>\n",
       "    <tr>\n",
       "      <td>Brazil</td>\n",
       "      <td>-0.28791</td>\n",
       "      <td>0.964477</td>\n",
       "      <td>0.958136</td>\n",
       "      <td>0.906172</td>\n",
       "      <td>0.959684</td>\n",
       "      <td>0.892131</td>\n",
       "      <td>0.281267</td>\n",
       "      <td>0.555754</td>\n",
       "    </tr>\n",
       "    <tr>\n",
       "      <td>...</td>\n",
       "      <td>...</td>\n",
       "      <td>...</td>\n",
       "      <td>...</td>\n",
       "      <td>...</td>\n",
       "      <td>...</td>\n",
       "      <td>...</td>\n",
       "      <td>...</td>\n",
       "      <td>...</td>\n",
       "    </tr>\n",
       "    <tr>\n",
       "      <td>Sri Lanka</td>\n",
       "      <td>NaN</td>\n",
       "      <td>NaN</td>\n",
       "      <td>0.802698</td>\n",
       "      <td>NaN</td>\n",
       "      <td>NaN</td>\n",
       "      <td>0.774</td>\n",
       "      <td>0.653505</td>\n",
       "      <td>0.75897</td>\n",
       "    </tr>\n",
       "    <tr>\n",
       "      <td>Taiwan</td>\n",
       "      <td>NaN</td>\n",
       "      <td>NaN</td>\n",
       "      <td>0.0889466</td>\n",
       "      <td>0.859332</td>\n",
       "      <td>NaN</td>\n",
       "      <td>0.911818</td>\n",
       "      <td>0.40668</td>\n",
       "      <td>0.646956</td>\n",
       "    </tr>\n",
       "    <tr>\n",
       "      <td>Thailand</td>\n",
       "      <td>0.66493</td>\n",
       "      <td>0.976489</td>\n",
       "      <td>0.759222</td>\n",
       "      <td>NaN</td>\n",
       "      <td>0.960473</td>\n",
       "      <td>0.77351</td>\n",
       "      <td>0.564777</td>\n",
       "      <td>0.55368</td>\n",
       "    </tr>\n",
       "    <tr>\n",
       "      <td>Vietnam</td>\n",
       "      <td>0.880569</td>\n",
       "      <td>0.955017</td>\n",
       "      <td>0.978323</td>\n",
       "      <td>NaN</td>\n",
       "      <td>0.734908</td>\n",
       "      <td>0.863412</td>\n",
       "      <td>0.509448</td>\n",
       "      <td>0.834941</td>\n",
       "    </tr>\n",
       "    <tr>\n",
       "      <td>Other Asia Pacific</td>\n",
       "      <td>0.91152</td>\n",
       "      <td>0.251362</td>\n",
       "      <td>0.358748</td>\n",
       "      <td>NaN</td>\n",
       "      <td>0.346899</td>\n",
       "      <td>0.253574</td>\n",
       "      <td>0.289489</td>\n",
       "      <td>0.270769</td>\n",
       "    </tr>\n",
       "  </tbody>\n",
       "</table>\n",
       "<p>92 rows × 8 columns</p>\n",
       "</div>"
      ],
      "text/plain": [
       "                        Coal        Gas      Hydro   Nuclear       Oil  \\\n",
       "Countries                                                                \n",
       "Canada              0.076312   0.937727   0.912657  0.854412  0.852756   \n",
       "Mexico               0.93808   0.953441   0.886887  0.899477  0.769522   \n",
       "US                  0.640129  0.0882985   0.220581  0.874649 -0.621165   \n",
       "Argentina                NaN   0.819794   0.847522  0.653756  0.484824   \n",
       "Brazil              -0.28791   0.964477   0.958136  0.906172  0.959684   \n",
       "...                      ...        ...        ...       ...       ...   \n",
       "Sri Lanka                NaN        NaN   0.802698       NaN       NaN   \n",
       "Taiwan                   NaN        NaN  0.0889466  0.859332       NaN   \n",
       "Thailand             0.66493   0.976489   0.759222       NaN  0.960473   \n",
       "Vietnam             0.880569   0.955017   0.978323       NaN  0.734908   \n",
       "Other Asia Pacific   0.91152   0.251362   0.358748       NaN  0.346899   \n",
       "\n",
       "                       Other     Solar      Wind  \n",
       "Countries                                         \n",
       "Canada              0.916753  0.448614  0.519656  \n",
       "Mexico              0.937109  0.343604  0.538245  \n",
       "US                  0.824446  0.103877  0.237046  \n",
       "Argentina           0.964978  0.455181  0.695389  \n",
       "Brazil              0.892131  0.281267  0.555754  \n",
       "...                      ...       ...       ...  \n",
       "Sri Lanka              0.774  0.653505   0.75897  \n",
       "Taiwan              0.911818   0.40668  0.646956  \n",
       "Thailand             0.77351  0.564777   0.55368  \n",
       "Vietnam             0.863412  0.509448  0.834941  \n",
       "Other Asia Pacific  0.253574  0.289489  0.270769  \n",
       "\n",
       "[92 rows x 8 columns]"
      ]
     },
     "execution_count": 36,
     "metadata": {},
     "output_type": "execute_result"
    }
   ],
   "source": [
    "ahhh=a.set_index('Countries')\n",
    "ahhh"
   ]
  },
  {
   "cell_type": "code",
   "execution_count": 26,
   "metadata": {},
   "outputs": [
    {
     "data": {
      "text/html": [
       "<div>\n",
       "<style scoped>\n",
       "    .dataframe tbody tr th:only-of-type {\n",
       "        vertical-align: middle;\n",
       "    }\n",
       "\n",
       "    .dataframe tbody tr th {\n",
       "        vertical-align: top;\n",
       "    }\n",
       "\n",
       "    .dataframe thead th {\n",
       "        text-align: right;\n",
       "    }\n",
       "</style>\n",
       "<table border=\"1\" class=\"dataframe\">\n",
       "  <thead>\n",
       "    <tr style=\"text-align: right;\">\n",
       "      <th></th>\n",
       "      <th>Countries</th>\n",
       "      <th>Coal</th>\n",
       "      <th>Gas</th>\n",
       "      <th>Hydro</th>\n",
       "      <th>Nuclear</th>\n",
       "      <th>Oil</th>\n",
       "      <th>Other</th>\n",
       "      <th>Solar</th>\n",
       "      <th>Wind</th>\n",
       "    </tr>\n",
       "    <tr>\n",
       "      <th>Regions</th>\n",
       "      <th></th>\n",
       "      <th></th>\n",
       "      <th></th>\n",
       "      <th></th>\n",
       "      <th></th>\n",
       "      <th></th>\n",
       "      <th></th>\n",
       "      <th></th>\n",
       "      <th></th>\n",
       "    </tr>\n",
       "  </thead>\n",
       "  <tbody>\n",
       "    <tr>\n",
       "      <td>Total North America</td>\n",
       "      <td>Canada</td>\n",
       "      <td>0.076312</td>\n",
       "      <td>0.937727</td>\n",
       "      <td>0.912657</td>\n",
       "      <td>0.854412</td>\n",
       "      <td>0.852756</td>\n",
       "      <td>0.916753</td>\n",
       "      <td>0.448614</td>\n",
       "      <td>0.519656</td>\n",
       "    </tr>\n",
       "    <tr>\n",
       "      <td>Total North America</td>\n",
       "      <td>Mexico</td>\n",
       "      <td>0.93808</td>\n",
       "      <td>0.953441</td>\n",
       "      <td>0.886887</td>\n",
       "      <td>0.899477</td>\n",
       "      <td>0.769522</td>\n",
       "      <td>0.937109</td>\n",
       "      <td>0.343604</td>\n",
       "      <td>0.538245</td>\n",
       "    </tr>\n",
       "    <tr>\n",
       "      <td>Total North America</td>\n",
       "      <td>US</td>\n",
       "      <td>0.640129</td>\n",
       "      <td>0.0882985</td>\n",
       "      <td>0.220581</td>\n",
       "      <td>0.874649</td>\n",
       "      <td>-0.621165</td>\n",
       "      <td>0.824446</td>\n",
       "      <td>0.103877</td>\n",
       "      <td>0.237046</td>\n",
       "    </tr>\n",
       "    <tr>\n",
       "      <td>Total S. &amp; Cent. America</td>\n",
       "      <td>Argentina</td>\n",
       "      <td>NaN</td>\n",
       "      <td>0.819794</td>\n",
       "      <td>0.847522</td>\n",
       "      <td>0.653756</td>\n",
       "      <td>0.484824</td>\n",
       "      <td>0.964978</td>\n",
       "      <td>0.455181</td>\n",
       "      <td>0.695389</td>\n",
       "    </tr>\n",
       "    <tr>\n",
       "      <td>Total S. &amp; Cent. America</td>\n",
       "      <td>Brazil</td>\n",
       "      <td>-0.28791</td>\n",
       "      <td>0.964477</td>\n",
       "      <td>0.958136</td>\n",
       "      <td>0.906172</td>\n",
       "      <td>0.959684</td>\n",
       "      <td>0.892131</td>\n",
       "      <td>0.281267</td>\n",
       "      <td>0.555754</td>\n",
       "    </tr>\n",
       "    <tr>\n",
       "      <td>...</td>\n",
       "      <td>...</td>\n",
       "      <td>...</td>\n",
       "      <td>...</td>\n",
       "      <td>...</td>\n",
       "      <td>...</td>\n",
       "      <td>...</td>\n",
       "      <td>...</td>\n",
       "      <td>...</td>\n",
       "      <td>...</td>\n",
       "    </tr>\n",
       "    <tr>\n",
       "      <td>Total Asia Pacific</td>\n",
       "      <td>Sri Lanka</td>\n",
       "      <td>NaN</td>\n",
       "      <td>NaN</td>\n",
       "      <td>0.802698</td>\n",
       "      <td>NaN</td>\n",
       "      <td>NaN</td>\n",
       "      <td>0.774</td>\n",
       "      <td>0.653505</td>\n",
       "      <td>0.75897</td>\n",
       "    </tr>\n",
       "    <tr>\n",
       "      <td>Total Asia Pacific</td>\n",
       "      <td>Taiwan</td>\n",
       "      <td>NaN</td>\n",
       "      <td>NaN</td>\n",
       "      <td>0.0889466</td>\n",
       "      <td>0.859332</td>\n",
       "      <td>NaN</td>\n",
       "      <td>0.911818</td>\n",
       "      <td>0.40668</td>\n",
       "      <td>0.646956</td>\n",
       "    </tr>\n",
       "    <tr>\n",
       "      <td>Total Asia Pacific</td>\n",
       "      <td>Thailand</td>\n",
       "      <td>0.66493</td>\n",
       "      <td>0.976489</td>\n",
       "      <td>0.759222</td>\n",
       "      <td>NaN</td>\n",
       "      <td>0.960473</td>\n",
       "      <td>0.77351</td>\n",
       "      <td>0.564777</td>\n",
       "      <td>0.55368</td>\n",
       "    </tr>\n",
       "    <tr>\n",
       "      <td>Total Asia Pacific</td>\n",
       "      <td>Vietnam</td>\n",
       "      <td>0.880569</td>\n",
       "      <td>0.955017</td>\n",
       "      <td>0.978323</td>\n",
       "      <td>NaN</td>\n",
       "      <td>0.734908</td>\n",
       "      <td>0.863412</td>\n",
       "      <td>0.509448</td>\n",
       "      <td>0.834941</td>\n",
       "    </tr>\n",
       "    <tr>\n",
       "      <td>Total Asia Pacific</td>\n",
       "      <td>Other Asia Pacific</td>\n",
       "      <td>0.91152</td>\n",
       "      <td>0.251362</td>\n",
       "      <td>0.358748</td>\n",
       "      <td>NaN</td>\n",
       "      <td>0.346899</td>\n",
       "      <td>0.253574</td>\n",
       "      <td>0.289489</td>\n",
       "      <td>0.270769</td>\n",
       "    </tr>\n",
       "  </tbody>\n",
       "</table>\n",
       "<p>92 rows × 9 columns</p>\n",
       "</div>"
      ],
      "text/plain": [
       "                                   Countries      Coal        Gas      Hydro  \\\n",
       "Regions                                                                        \n",
       "Total North America                   Canada  0.076312   0.937727   0.912657   \n",
       "Total North America                   Mexico   0.93808   0.953441   0.886887   \n",
       "Total North America                       US  0.640129  0.0882985   0.220581   \n",
       "Total S. & Cent. America           Argentina       NaN   0.819794   0.847522   \n",
       "Total S. & Cent. America              Brazil  -0.28791   0.964477   0.958136   \n",
       "...                                      ...       ...        ...        ...   \n",
       "Total Asia Pacific                 Sri Lanka       NaN        NaN   0.802698   \n",
       "Total Asia Pacific                    Taiwan       NaN        NaN  0.0889466   \n",
       "Total Asia Pacific                  Thailand   0.66493   0.976489   0.759222   \n",
       "Total Asia Pacific                   Vietnam  0.880569   0.955017   0.978323   \n",
       "Total Asia Pacific        Other Asia Pacific   0.91152   0.251362   0.358748   \n",
       "\n",
       "                           Nuclear       Oil     Other     Solar      Wind  \n",
       "Regions                                                                     \n",
       "Total North America       0.854412  0.852756  0.916753  0.448614  0.519656  \n",
       "Total North America       0.899477  0.769522  0.937109  0.343604  0.538245  \n",
       "Total North America       0.874649 -0.621165  0.824446  0.103877  0.237046  \n",
       "Total S. & Cent. America  0.653756  0.484824  0.964978  0.455181  0.695389  \n",
       "Total S. & Cent. America  0.906172  0.959684  0.892131  0.281267  0.555754  \n",
       "...                            ...       ...       ...       ...       ...  \n",
       "Total Asia Pacific             NaN       NaN     0.774  0.653505   0.75897  \n",
       "Total Asia Pacific        0.859332       NaN  0.911818   0.40668  0.646956  \n",
       "Total Asia Pacific             NaN  0.960473   0.77351  0.564777   0.55368  \n",
       "Total Asia Pacific             NaN  0.734908  0.863412  0.509448  0.834941  \n",
       "Total Asia Pacific             NaN  0.346899  0.253574  0.289489  0.270769  \n",
       "\n",
       "[92 rows x 9 columns]"
      ]
     },
     "metadata": {},
     "output_type": "display_data"
    }
   ],
   "source": [
    "y = []\n",
    "\n",
    "for i in range(0,len(Countries)):\n",
    "    if a.iloc[i,0] in Countries_Region[0]:\n",
    "        y.append(Regions[0])\n",
    "    elif a.iloc[i,0] in Countries_Region[1]:\n",
    "        y.append(Regions[1])\n",
    "    elif a.iloc[i,0] in Countries_Region[2]:\n",
    "        y.append(Regions[2])\n",
    "    elif a.iloc[i,0] in Countries_Region[3]:\n",
    "        y.append(Regions[3])\n",
    "    elif a.iloc[i,0] in Countries_Region[4]:\n",
    "        y.append(Regions[4])\n",
    "    elif a.iloc[i,0] in Countries_Region[5]:\n",
    "        y.append(Regions[5])\n",
    "    elif a.iloc[i,0] in Countries_Region[6]:\n",
    "        y.append(Regions[6])\n",
    "\n",
    "a['Regions'] = y\n",
    "\n",
    "a.set_index('Regions',inplace=True)\n",
    "display(a)"
   ]
  },
  {
   "cell_type": "code",
   "execution_count": 53,
   "metadata": {},
   "outputs": [
    {
     "data": {
      "image/png": "[encoded data removed]",
      "text/plain": [
       "<Figure size 432x288 with 1 Axes>"
      ]
     },
     "metadata": {
      "needs_background": "light"
     },
     "output_type": "display_data"
    }
   ],
   "source": [
    "for i in range(1,len(a.columns)):\n",
    "    plt.scatter(a.iloc[:,i],a.index, alpha=0.5)\n",
    "    plt.legend(energy,bbox_to_anchor=(1.02,1.025), loc=\"upper left\")\n",
    "    plt.title('Energy correlation with Carbon Emission')"
   ]
  },
  {
   "cell_type": "code",
   "execution_count": 56,
   "metadata": {},
   "outputs": [
    {
     "data": {
      "image/png": "[encoded data removed]",
      "text/plain": [
       "<Figure size 432x288 with 1 Axes>"
      ]
     },
     "metadata": {
      "needs_background": "light"
     },
     "output_type": "display_data"
    }
   ],
   "source": [
    "plt.scatter(a[energy[0]],a.index, alpha=0.5, c=dicts[energy[0]])\n",
    "plt.legend(energy[0:],bbox_to_anchor=(1.02,1.025), loc=\"upper left\")\n",
    "plt.title(f'{energy[0]} correlation with Carbon Emission')\n",
    "plt.show()"
   ]
  },
  {
   "cell_type": "code",
   "execution_count": 57,
   "metadata": {},
   "outputs": [
    {
     "data": {
      "image/png": "[encoded data removed]",
      "text/plain": [
       "<Figure size 432x288 with 1 Axes>"
      ]
     },
     "metadata": {
      "needs_background": "light"
     },
     "output_type": "display_data"
    }
   ],
   "source": [
    "plt.scatter(a[energy[1]],a.index, alpha=0.5, c=dicts[energy[1]])\n",
    "plt.legend(energy[1:],bbox_to_anchor=(1.02,1.025), loc=\"upper left\")\n",
    "plt.title(f'{energy[1]} correlation with Carbon Emission')\n",
    "plt.show()"
   ]
  },
  {
   "cell_type": "code",
   "execution_count": 58,
   "metadata": {},
   "outputs": [
    {
     "data": {
      "image/png": "[encoded data removed]",
      "text/plain": [
       "<Figure size 432x288 with 1 Axes>"
      ]
     },
     "metadata": {
      "needs_background": "light"
     },
     "output_type": "display_data"
    }
   ],
   "source": [
    "plt.scatter(a[energy[2]],a.index, alpha=0.5, c=dicts[energy[2]])\n",
    "plt.legend(energy[2:],bbox_to_anchor=(1.02,1.025), loc=\"upper left\")\n",
    "plt.title(f'{energy[2]} correlation with Carbon Emission')\n",
    "plt.show()"
   ]
  },
  {
   "cell_type": "code",
   "execution_count": 59,
   "metadata": {},
   "outputs": [
    {
     "data": {
      "image/png": "[encoded data removed]",
      "text/plain": [
       "<Figure size 432x288 with 1 Axes>"
      ]
     },
     "metadata": {
      "needs_background": "light"
     },
     "output_type": "display_data"
    }
   ],
   "source": [
    "plt.scatter(a[energy[3]],a.index, alpha=0.5, c=dicts[energy[3]])\n",
    "plt.legend(energy[3:],bbox_to_anchor=(1.02,1.025), loc=\"upper left\")\n",
    "plt.title(f'{energy[3]} correlation with Carbon Emission')\n",
    "plt.show()"
   ]
  },
  {
   "cell_type": "code",
   "execution_count": 60,
   "metadata": {},
   "outputs": [
    {
     "data": {
      "image/png": "[encoded data removed]",
      "text/plain": [
       "<Figure size 432x288 with 1 Axes>"
      ]
     },
     "metadata": {
      "needs_background": "light"
     },
     "output_type": "display_data"
    }
   ],
   "source": [
    "plt.scatter(a[energy[4]],a.index, alpha=0.5, c=dicts[energy[4]])\n",
    "plt.legend(energy[4:],bbox_to_anchor=(1.02,1.025), loc=\"upper left\")\n",
    "plt.title(f'{energy[4]} correlation with Carbon Emission')\n",
    "plt.show()"
   ]
  },
  {
   "cell_type": "code",
   "execution_count": 61,
   "metadata": {},
   "outputs": [
    {
     "data": {
      "image/png": "[encoded data removed]",
      "text/plain": [
       "<Figure size 432x288 with 1 Axes>"
      ]
     },
     "metadata": {
      "needs_background": "light"
     },
     "output_type": "display_data"
    }
   ],
   "source": [
    "plt.scatter(a[energy[5]],a.index, alpha=0.5, c=dicts[energy[5]])\n",
    "plt.legend(energy[5:],bbox_to_anchor=(1.02,1.025), loc=\"upper left\")\n",
    "plt.title(f'{energy[5]} correlation with Carbon Emission')\n",
    "plt.show()"
   ]
  },
  {
   "cell_type": "code",
   "execution_count": 62,
   "metadata": {},
   "outputs": [
    {
     "data": {
      "image/png": "[encoded data removed]",
      "text/plain": [
       "<Figure size 432x288 with 1 Axes>"
      ]
     },
     "metadata": {
      "needs_background": "light"
     },
     "output_type": "display_data"
    }
   ],
   "source": [
    "plt.scatter(a[energy[6]],a.index, alpha=0.5, c=dicts[energy[6]])\n",
    "plt.legend(energy[6:],bbox_to_anchor=(1.02,1.025), loc=\"upper left\")\n",
    "plt.title(f'{energy[6]} correlation with Carbon Emission')\n",
    "plt.show()"
   ]
  },
  {
   "cell_type": "code",
   "execution_count": 63,
   "metadata": {},
   "outputs": [
    {
     "data": {
      "image/png": "[encoded data removed]",
      "text/plain": [
       "<Figure size 432x288 with 1 Axes>"
      ]
     },
     "metadata": {
      "needs_background": "light"
     },
     "output_type": "display_data"
    }
   ],
   "source": [
    "plt.scatter(a[energy[7]],a.index, alpha=0.5, c=dicts[energy[7]])\n",
    "plt.legend(energy[7:],bbox_to_anchor=(1.02,1.025), loc=\"upper left\")\n",
    "plt.title(f'{energy[7]} correlation with Carbon Emission')\n",
    "plt.show()"
   ]
  },
  {
   "cell_type": "code",
   "execution_count": null,
   "metadata": {},
   "outputs": [],
   "source": []
  }
 ],
 "metadata": {
  "kernelspec": {
   "display_name": "Python 3",
   "language": "python",
   "name": "python3"
  },
  "language_info": {
   "codemirror_mode": {
    "name": "ipython",
    "version": 3
   },
   "file_extension": ".py",
   "mimetype": "text/x-python",
   "name": "python",
   "nbconvert_exporter": "python",
   "pygments_lexer": "ipython3",
   "version": "3.7.4"
  }
 },
 "nbformat": 4,
 "nbformat_minor": 2
}

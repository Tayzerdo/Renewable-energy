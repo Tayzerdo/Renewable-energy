{
 "cells": [
  {
   "cell_type": "markdown",
   "metadata": {},
   "source": [
    "# Energy data analysis\n",
    "\n",
    "### This projects takes the energy information from BP statistical review\n",
    "\n",
    "### The source link for the excel file is https://www.bp.com/content/dam/bp/business-sites/en/global/corporate/xlsx/energy-economics/statistical-review/bp-stats-review-2019-all-data.xlsx\n",
    "\n",
    "#### The file has sort of energy information: the ones used for this project is:\n",
    "\n",
    "##### Oil Production - Tonnes\n",
    "##### Gas Production - Mtoe\n",
    "##### Coal Production - Mtoe\n",
    "##### Nuclear Generation - TWh\n",
    "##### Hydro Generation - TWh\n",
    "##### Solar Generation - TWh displays the solar generation in TWh from 1965 til 2018\n",
    "##### Wind Generation - TWh displays the wind generation in TWh from 1965 til 2018\n",
    "##### Geo Biomass Other - TWh displays the geo+biomass+other generation in TWh from 1965 til 2018\n",
    "##### Biofuels Production - Ktoe***\n",
    "##### Carbon Dioxide Emissions displays the carbon emission in Million tonnes from 1965 til 2018"
   ]
  },
  {
   "cell_type": "markdown",
   "metadata": {},
   "source": [
    "### 1. Import libraries"
   ]
  },
  {
   "cell_type": "code",
   "execution_count": 1,
   "metadata": {},
   "outputs": [
    {
     "name": "stdout",
     "output_type": "stream",
     "text": [
      "libraries imported\n"
     ]
    }
   ],
   "source": [
    "import pandas as pd\n",
    "import matplotlib.pyplot as plt\n",
    "import seaborn as sns\n",
    "import numpy as np\n",
    "\n",
    "print('libraries imported')"
   ]
  },
  {
   "cell_type": "markdown",
   "metadata": {},
   "source": [
    "### 2. Take all places, countries and regions"
   ]
  },
  {
   "cell_type": "code",
   "execution_count": 2,
   "metadata": {},
   "outputs": [
    {
     "data": {
      "text/plain": [
       "Index(['Canada', 'Mexico', 'US', 'Total North America', 'Argentina', 'Brazil',\n",
       "       'Chile', 'Colombia', 'Ecuador', 'Peru', 'Trinidad & Tobago',\n",
       "       'Venezuela', 'Central America', 'Other Caribbean',\n",
       "       'Other South America', 'Total S. & Cent. America', 'Austria', 'Belgium',\n",
       "       'Bulgaria', 'Croatia', 'Cyprus', 'Czech Republic', 'Denmark', 'Estonia',\n",
       "       'Finland', 'France', 'Germany', 'Greece', 'Hungary', 'Iceland',\n",
       "       'Ireland', 'Italy', 'Latvia', 'Lithuania', 'Luxembourg', 'Netherlands',\n",
       "       'North Macedonia', 'Norway', 'Poland', 'Portugal', 'Romania',\n",
       "       'Slovakia', 'Slovenia', 'Spain', 'Sweden', 'Switzerland', 'Turkey',\n",
       "       'Ukraine', 'United Kingdom', 'Other Europe', 'Total Europe',\n",
       "       'Azerbaijan', 'Belarus', 'Kazakhstan', 'Russian Federation',\n",
       "       'Turkmenistan', 'USSR', 'Uzbekistan', 'Other CIS', 'Total CIS', 'Iran',\n",
       "       'Iraq', 'Israel', 'Kuwait', 'Oman', 'Qatar', 'Saudi Arabia',\n",
       "       'United Arab Emirates', 'Other Middle East', 'Total Middle East',\n",
       "       'Algeria', 'Egypt', 'Morocco', 'South Africa', 'Eastern Africa',\n",
       "       'Middle Africa', 'Western Africa', 'Other Northern Africa',\n",
       "       'Other Southern Africa', 'Total Africa', 'Australia', 'Bangladesh',\n",
       "       'China', 'China Hong Kong SAR', 'India', 'Indonesia', 'Japan',\n",
       "       'Malaysia', 'New Zealand', 'Pakistan', 'Philippines', 'Singapore',\n",
       "       'South Korea', 'Sri Lanka', 'Taiwan', 'Thailand', 'Vietnam',\n",
       "       'Other Asia Pacific', 'Total Asia Pacific'],\n",
       "      dtype='object', name='Countries')"
      ]
     },
     "execution_count": 2,
     "metadata": {},
     "output_type": "execute_result"
    }
   ],
   "source": [
    "#Take the Places\n",
    "Places = pd.read_excel('bp-stats-review-2019-all-data.xls', sheet_name = 'Primary Energy Consumption', skiprows = 2)\n",
    "Places.rename(columns={'Million tonnes oil equivalent':'Countries'}, inplace =True)\n",
    "Places.set_index('Countries', inplace=True)\n",
    "Places = Places.iloc[:Places.index.get_loc('Total World')]\n",
    "Places.dropna(how='all', axis=0, inplace=True)\n",
    "Places = Places.index\n",
    "Places"
   ]
  },
  {
   "cell_type": "code",
   "execution_count": 46,
   "metadata": {},
   "outputs": [
    {
     "data": {
      "text/plain": [
       "Index(['Algeria', 'Argentina', 'Australia', 'Austria', 'Azerbaijan',\n",
       "       'Bangladesh', 'Belarus', 'Belgium', 'Brazil', 'Bulgaria', 'Canada',\n",
       "       'Central America', 'Chile', 'China', 'China Hong Kong SAR', 'Colombia',\n",
       "       'Croatia', 'Cyprus', 'Czech Republic', 'Denmark', 'Eastern Africa',\n",
       "       'Ecuador', 'Egypt', 'Estonia', 'Finland', 'France', 'Germany', 'Greece',\n",
       "       'Hungary', 'Iceland', 'India', 'Indonesia', 'Iran', 'Iraq', 'Ireland',\n",
       "       'Israel', 'Italy', 'Japan', 'Kazakhstan', 'Kuwait', 'Latvia',\n",
       "       'Lithuania', 'Luxembourg', 'Malaysia', 'Mexico', 'Middle Africa',\n",
       "       'Morocco', 'Netherlands', 'New Zealand', 'North Macedonia', 'Norway',\n",
       "       'Oman', 'Other Asia Pacific', 'Other CIS', 'Other Caribbean',\n",
       "       'Other Europe', 'Other Middle East', 'Other Northern Africa',\n",
       "       'Other South America', 'Other Southern Africa', 'Pakistan', 'Peru',\n",
       "       'Philippines', 'Poland', 'Portugal', 'Qatar', 'Romania',\n",
       "       'Russian Federation', 'Saudi Arabia', 'Singapore', 'Slovakia',\n",
       "       'Slovenia', 'South Africa', 'South Korea', 'Spain', 'Sri Lanka',\n",
       "       'Sweden', 'Switzerland', 'Taiwan', 'Thailand', 'Trinidad & Tobago',\n",
       "       'Turkey', 'Turkmenistan', 'US', 'USSR', 'Ukraine',\n",
       "       'United Arab Emirates', 'United Kingdom', 'Uzbekistan', 'Venezuela',\n",
       "       'Vietnam', 'Western Africa'],\n",
       "      dtype='object', name='Countries')"
      ]
     },
     "metadata": {},
     "output_type": "display_data"
    }
   ],
   "source": [
    "#Take the countries\n",
    "Countries = Places[~Places.str.startswith('Total')].sort_values()\n",
    "display(Countries)"
   ]
  },
  {
   "cell_type": "code",
   "execution_count": null,
   "metadata": {},
   "outputs": [],
   "source": [
    "#Take the regions\n",
    "Regions = Places[Places.str.startswith('Total')]\n",
    "Regions"
   ]
  },
  {
   "cell_type": "markdown",
   "metadata": {},
   "source": [
    "### 2. Import energy data"
   ]
  },
  {
   "cell_type": "code",
   "execution_count": 5,
   "metadata": {},
   "outputs": [],
   "source": [
    "#Import the Oil production data\n",
    "Oil = pd.read_excel('bp-stats-review-2019-all-data.xls', sheet_name = 'Oil Production - Tonnes', skiprows = 2)\n",
    "Oil.rename(columns={'Million tonnes':'Countries'}, inplace =True)\n",
    "Oil.set_index('Countries', inplace=True)\n",
    "Oil.dropna(how='all', axis=0, inplace=True)\n",
    "Oil.dropna(how='all', axis=1, inplace=True)\n",
    "Oil.fillna(0, inplace=True)\n",
    "Oil = Oil.iloc[:Oil.index.get_loc('Total World'),:Oil.columns.get_loc(2018)+1]\n",
    "#display(Oil)"
   ]
  },
  {
   "cell_type": "code",
   "execution_count": 6,
   "metadata": {},
   "outputs": [],
   "source": [
    "#Import the Gas production data\n",
    "Gas = pd.read_excel('bp-stats-review-2019-all-data.xls', sheet_name = 'Gas Production - Mtoe', skiprows = 2)\n",
    "Gas.rename(columns={'Million tonnes oil equivalent':'Countries'}, inplace =True)\n",
    "Gas.set_index('Countries', inplace=True)\n",
    "Gas.dropna(how='all', axis=0, inplace=True)\n",
    "Gas.dropna(how='all', axis=1, inplace=True)\n",
    "Gas.fillna(0, inplace=True)\n",
    "Gas = Gas.iloc[:Gas.index.get_loc('Total World'),:Gas.columns.get_loc(2018)+1]\n",
    "#display(Gas)"
   ]
  },
  {
   "cell_type": "code",
   "execution_count": 7,
   "metadata": {},
   "outputs": [],
   "source": [
    "#Import Coal Production data \n",
    "Coal = pd.read_excel('bp-stats-review-2019-all-data.xls', sheet_name = 'Coal Production - Mtoe', skiprows = 2)\n",
    "Coal.rename(columns={'Million tonnes oil equivalent':'Countries'}, inplace =True)\n",
    "Coal.set_index('Countries', inplace=True)\n",
    "Coal.dropna(how='all', axis=0, inplace=True)\n",
    "Coal.dropna(how='all', axis=1, inplace=True)\n",
    "Coal.fillna(0, inplace=True)\n",
    "Coal = Coal.iloc[:Coal.index.get_loc('Total World'),:Coal.columns.get_loc(2018)+1]\n",
    "#display(Coal)"
   ]
  },
  {
   "cell_type": "code",
   "execution_count": 8,
   "metadata": {},
   "outputs": [],
   "source": [
    "#Import the nuclear generation\n",
    "Nuclear = pd.read_excel('bp-stats-review-2019-all-data.xls', sheet_name = 'Nuclear Generation - TWh', skiprows = 2)\n",
    "Nuclear.rename(columns={'Terawatt-hours':'Countries'}, inplace =True)\n",
    "Nuclear.set_index('Countries', inplace=True)\n",
    "Nuclear.dropna(how='all', axis=0, inplace=True)\n",
    "Nuclear.dropna(how='all', axis=1, inplace=True)\n",
    "Nuclear.fillna(0, inplace=True)\n",
    "Nuclear = Nuclear.iloc[:Nuclear.index.get_loc('Total World'),:Nuclear.columns.get_loc(2018)+1]\n",
    "#display(Nuclear)"
   ]
  },
  {
   "cell_type": "code",
   "execution_count": 9,
   "metadata": {},
   "outputs": [],
   "source": [
    "#Import the hydro generation data\n",
    "Hydro = pd.read_excel('bp-stats-review-2019-all-data.xls', sheet_name = 'Hydro Generation - TWh', skiprows = 2)\n",
    "Hydro.rename(columns={'Terawatt-hours':'Countries'}, inplace =True)\n",
    "Hydro.set_index('Countries', inplace=True)\n",
    "Hydro.dropna(how='all', axis=0, inplace=True)\n",
    "Hydro.dropna(how='all', axis=1, inplace=True)\n",
    "Hydro.fillna(0, inplace=True)\n",
    "Hydro = Hydro.iloc[:Hydro.index.get_loc('Total World'),:Hydro.columns.get_loc(2018)+1]\n",
    "#display(Solar)"
   ]
  },
  {
   "cell_type": "code",
   "execution_count": 10,
   "metadata": {},
   "outputs": [],
   "source": [
    "#Import the solar generation data\n",
    "Solar = pd.read_excel('bp-stats-review-2019-all-data.xls', sheet_name = 'Solar Generation - TWh', skiprows = 2)\n",
    "Solar.rename(columns={'Terawatt-hours':'Countries'}, inplace =True)\n",
    "Solar.set_index('Countries', inplace=True)\n",
    "Solar.dropna(how='all', axis=0, inplace=True)\n",
    "Solar.dropna(how='all', axis=1, inplace=True)\n",
    "Solar.fillna(0, inplace=True)\n",
    "Solar = Solar.iloc[:Solar.index.get_loc('Total World'),:Solar.columns.get_loc(2018)+1]\n",
    "#display(Solar)"
   ]
  },
  {
   "cell_type": "code",
   "execution_count": 11,
   "metadata": {},
   "outputs": [],
   "source": [
    "#Import the Wind energy generation data\n",
    "Wind = pd.read_excel('bp-stats-review-2019-all-data.xls', sheet_name = 'Wind Generation - TWh ', skiprows=2)\n",
    "Wind.rename(columns={'Terawatt-hours':'Countries'}, inplace =True)\n",
    "Wind.set_index('Countries', inplace=True)\n",
    "Wind.dropna(how='all', axis=0, inplace=True)\n",
    "Wind.dropna(how='all', axis=1, inplace=True)\n",
    "Wind.fillna(0,inplace=True)\n",
    "Wind = Wind.iloc[:Wind.index.get_loc('Total World'),:Wind.columns.get_loc(2018)+1]\n",
    "#display(Wind)"
   ]
  },
  {
   "cell_type": "code",
   "execution_count": 12,
   "metadata": {},
   "outputs": [],
   "source": [
    "#Import the Other energy generation data\n",
    "Other = pd.read_excel('bp-stats-review-2019-all-data.xls', sheet_name = 'Geo Biomass Other - TWh', skiprows = 2)\n",
    "Other.rename(columns={'Terawatt-hours':'Countries'}, inplace =True)\n",
    "Other.set_index('Countries', inplace=True)\n",
    "Other.dropna(how='all', axis=0, inplace=True)\n",
    "Other.dropna(how='all', axis=1, inplace=True)\n",
    "Other.fillna(0, inplace=True)\n",
    "Other = Other.iloc[:Other.index.get_loc('Total World'),:Other.columns.get_loc(2018)+1]\n",
    "#display(Other)"
   ]
  },
  {
   "cell_type": "code",
   "execution_count": 89,
   "metadata": {},
   "outputs": [],
   "source": [
    "#Import the Carbon Dioxe data\n",
    "Carbon = pd.read_excel('bp-stats-review-2019-all-data.xls', sheet_name = 'Carbon Dioxide Emissions', skiprows = 2)\n",
    "Carbon.rename(columns={'Million tonnes of carbon dioxide':'Countries'}, inplace =True)\n",
    "Carbon.set_index('Countries', inplace=True)\n",
    "Carbon.dropna(how='all', axis=0, inplace=True)\n",
    "Carbon.dropna(how='all', axis=1, inplace=True)\n",
    "Carbon.fillna(0, inplace=True)\n",
    "Carbon = Carbon.iloc[:Carbon.index.get_loc('Total World'),:Carbon.columns.get_loc(2018)+1]\n",
    "#display(Carbon)"
   ]
  },
  {
   "cell_type": "markdown",
   "metadata": {},
   "source": [
    "### 3. Create energy data variables"
   ]
  },
  {
   "cell_type": "code",
   "execution_count": 146,
   "metadata": {},
   "outputs": [],
   "source": [
    "Energy_type = [Oil, Gas, Coal, Nuclear, Hydro, Solar, Wind, Other, Carbon]\n",
    "energy = [\"Oil\",\"Gas\",\"Coal\",\"Nuclear\",\"Hydro\",\"Solar\", \"Wind\", \"Other\", \"Carbon\"]\n",
    "\n",
    "# Create a dict to correlate the Energy with specific color\n",
    "color = ['blue', 'orange', 'green', 'red','purple', 'brown', 'cyan', 'gray', 'olive']\n",
    "dicts = {}\n",
    "for i in range(0,len(energy)):\n",
    "    dicts[energy[i]] = color[i]\n"
   ]
  },
  {
   "cell_type": "markdown",
   "metadata": {},
   "source": [
    "### 4. Take the countries by region"
   ]
  },
  {
   "cell_type": "code",
   "execution_count": null,
   "metadata": {},
   "outputs": [],
   "source": [
    "# Countries in Total North America\n",
    "Total_North = Places[:Places.get_loc('Total North America')+1]\n",
    "Total_North"
   ]
  },
  {
   "cell_type": "code",
   "execution_count": null,
   "metadata": {},
   "outputs": [],
   "source": [
    "# Countries in Total S. & Cent. America\n",
    "Total_S_Cent = Places[Places.get_loc('Total North America')+1:Places.get_loc('Total S. & Cent. America')+1]\n",
    "Total_S_Cent"
   ]
  },
  {
   "cell_type": "code",
   "execution_count": null,
   "metadata": {},
   "outputs": [],
   "source": [
    "# Countries in Total Europe\n",
    "Total_S_Cent = Places[Places.get_loc('Total S. & Cent. America')+1:Places.get_loc('Total Europe')+1]\n",
    "Total_S_Cent"
   ]
  },
  {
   "cell_type": "code",
   "execution_count": null,
   "metadata": {},
   "outputs": [],
   "source": [
    "# Countries in Total CIS\n",
    "Total_S_Cent = Places[Places.get_loc('Total Europe')+1:Places.get_loc('Total CIS')+1]\n",
    "Total_S_Cent"
   ]
  },
  {
   "cell_type": "code",
   "execution_count": null,
   "metadata": {},
   "outputs": [],
   "source": [
    "# Countries in Total Middle East\n",
    "Total_S_Cent = Places[Places.get_loc('Total CIS')+1:Places.get_loc('Total Middle East')+1]\n",
    "Total_S_Cent"
   ]
  },
  {
   "cell_type": "code",
   "execution_count": null,
   "metadata": {},
   "outputs": [],
   "source": [
    "# Countries in Total Africa\n",
    "Total_S_Cent = Places[Places.get_loc('Total Middle East')+1:Places.get_loc('Total Africa')+1]\n",
    "Total_S_Cent"
   ]
  },
  {
   "cell_type": "code",
   "execution_count": 139,
   "metadata": {},
   "outputs": [
    {
     "data": {
      "text/plain": [
       "Index(['Australia', 'Bangladesh', 'China', 'China Hong Kong SAR', 'India',\n",
       "       'Indonesia', 'Japan', 'Malaysia', 'New Zealand', 'Pakistan',\n",
       "       'Philippines', 'Singapore', 'South Korea', 'Sri Lanka', 'Taiwan',\n",
       "       'Thailand', 'Vietnam', 'Other Asia Pacific', 'Total Asia Pacific'],\n",
       "      dtype='object', name='Countries')"
      ]
     },
     "execution_count": 139,
     "metadata": {},
     "output_type": "execute_result"
    }
   ],
   "source": [
    "# Countries in Total Asia Pacific\n",
    "Total_S_Cent = Places[Places.get_loc('Total Africa')+1:Places.get_loc('Total Asia Pacific')+1]\n",
    "Total_S_Cent"
   ]
  },
  {
   "cell_type": "markdown",
   "metadata": {},
   "source": [
    "### 5. Correlation table"
   ]
  },
  {
   "cell_type": "code",
   "execution_count": 107,
   "metadata": {},
   "outputs": [
    {
     "name": "stdout",
     "output_type": "stream",
     "text": [
      "Algeria don't have information of Coal\n",
      "Argentina don't have information of Coal\n",
      "Austria don't have information of Oil\n",
      "Austria don't have information of Gas\n",
      "Austria don't have information of Coal\n",
      "Azerbaijan don't have information of Coal\n",
      "Bangladesh don't have information of Oil\n",
      "Bangladesh don't have information of Coal\n",
      "Belarus don't have information of Oil\n",
      "Belarus don't have information of Gas\n",
      "Belarus don't have information of Coal\n",
      "Belgium don't have information of Oil\n",
      "Belgium don't have information of Gas\n",
      "Belgium don't have information of Coal\n",
      "Bulgaria don't have information of Oil\n",
      "Bulgaria don't have information of Gas\n",
      "Central America don't have information of Oil\n",
      "Central America don't have information of Gas\n",
      "Central America don't have information of Coal\n",
      "Chile don't have information of Oil\n",
      "Chile don't have information of Gas\n",
      "Chile don't have information of Coal\n",
      "China Hong Kong SAR don't have information of Oil\n",
      "China Hong Kong SAR don't have information of Gas\n",
      "China Hong Kong SAR don't have information of Coal\n",
      "Croatia don't have information of Oil\n",
      "Croatia don't have information of Gas\n",
      "Croatia don't have information of Coal\n",
      "Croatia don't have information of Nuclear\n",
      "Cyprus don't have information of Oil\n",
      "Cyprus don't have information of Gas\n",
      "Cyprus don't have information of Coal\n",
      "Czech Republic don't have information of Oil\n",
      "Czech Republic don't have information of Gas\n",
      "Denmark don't have information of Coal\n",
      "Eastern Africa don't have information of Oil\n",
      "Eastern Africa don't have information of Gas\n",
      "Eastern Africa don't have information of Coal\n",
      "Ecuador don't have information of Gas\n",
      "Ecuador don't have information of Coal\n",
      "Egypt don't have information of Coal\n",
      "Estonia don't have information of Oil\n",
      "Estonia don't have information of Gas\n",
      "Estonia don't have information of Coal\n",
      "Finland don't have information of Oil\n",
      "Finland don't have information of Gas\n",
      "Finland don't have information of Coal\n",
      "France don't have information of Oil\n",
      "France don't have information of Gas\n",
      "France don't have information of Coal\n",
      "Germany don't have information of Oil\n",
      "Greece don't have information of Oil\n",
      "Greece don't have information of Gas\n",
      "Hungary don't have information of Oil\n",
      "Hungary don't have information of Gas\n",
      "Iceland don't have information of Oil\n",
      "Iceland don't have information of Gas\n",
      "Iceland don't have information of Coal\n",
      "Iran don't have information of Coal\n",
      "Iraq don't have information of Coal\n",
      "Ireland don't have information of Oil\n",
      "Ireland don't have information of Gas\n",
      "Ireland don't have information of Coal\n",
      "Israel don't have information of Oil\n",
      "Israel don't have information of Gas\n",
      "Israel don't have information of Coal\n",
      "Italy don't have information of Coal\n",
      "Japan don't have information of Oil\n",
      "Japan don't have information of Gas\n",
      "Kuwait don't have information of Coal\n",
      "Latvia don't have information of Oil\n",
      "Latvia don't have information of Gas\n",
      "Latvia don't have information of Coal\n",
      "Lithuania don't have information of Oil\n",
      "Lithuania don't have information of Gas\n",
      "Lithuania don't have information of Coal\n",
      "Luxembourg don't have information of Oil\n",
      "Luxembourg don't have information of Gas\n",
      "Luxembourg don't have information of Coal\n",
      "Malaysia don't have information of Coal\n",
      "Middle Africa don't have information of Oil\n",
      "Middle Africa don't have information of Gas\n",
      "Middle Africa don't have information of Coal\n",
      "Morocco don't have information of Oil\n",
      "Morocco don't have information of Gas\n",
      "Morocco don't have information of Coal\n",
      "Netherlands don't have information of Oil\n",
      "Netherlands don't have information of Coal\n",
      "New Zealand don't have information of Oil\n",
      "New Zealand don't have information of Gas\n",
      "North Macedonia don't have information of Oil\n",
      "North Macedonia don't have information of Gas\n",
      "North Macedonia don't have information of Coal\n",
      "North Macedonia don't have information of Nuclear\n",
      "Norway don't have information of Coal\n",
      "Oman don't have information of Coal\n",
      "Other Caribbean don't have information of Oil\n",
      "Other Caribbean don't have information of Gas\n",
      "Other Caribbean don't have information of Coal\n",
      "Other Middle East don't have information of Coal\n",
      "Other Northern Africa don't have information of Oil\n",
      "Other Northern Africa don't have information of Gas\n",
      "Other Northern Africa don't have information of Coal\n",
      "Other Northern Africa don't have information of Other\n",
      "Other South America don't have information of Oil\n",
      "Other South America don't have information of Gas\n",
      "Other South America don't have information of Coal\n",
      "Other Southern Africa don't have information of Oil\n",
      "Other Southern Africa don't have information of Gas\n",
      "Other Southern Africa don't have information of Coal\n",
      "Other Southern Africa don't have information of Nuclear\n",
      "Pakistan don't have information of Oil\n",
      "Peru don't have information of Coal\n",
      "Philippines don't have information of Oil\n",
      "Philippines don't have information of Gas\n",
      "Philippines don't have information of Coal\n",
      "Poland don't have information of Oil\n",
      "Portugal don't have information of Oil\n",
      "Portugal don't have information of Gas\n",
      "Portugal don't have information of Coal\n",
      "Qatar don't have information of Coal\n",
      "Saudi Arabia don't have information of Coal\n",
      "Singapore don't have information of Oil\n",
      "Singapore don't have information of Gas\n",
      "Singapore don't have information of Coal\n",
      "Slovakia don't have information of Oil\n",
      "Slovakia don't have information of Gas\n",
      "Slovakia don't have information of Coal\n",
      "Slovenia don't have information of Oil\n",
      "Slovenia don't have information of Gas\n",
      "Slovenia don't have information of Coal\n",
      "South Africa don't have information of Oil\n",
      "South Africa don't have information of Gas\n",
      "South Korea don't have information of Oil\n",
      "South Korea don't have information of Gas\n",
      "Spain don't have information of Oil\n",
      "Spain don't have information of Gas\n",
      "Sri Lanka don't have information of Oil\n",
      "Sri Lanka don't have information of Gas\n",
      "Sri Lanka don't have information of Coal\n",
      "Sweden don't have information of Oil\n",
      "Sweden don't have information of Gas\n",
      "Sweden don't have information of Coal\n",
      "Switzerland don't have information of Oil\n",
      "Switzerland don't have information of Gas\n",
      "Switzerland don't have information of Coal\n",
      "Taiwan don't have information of Oil\n",
      "Taiwan don't have information of Gas\n",
      "Taiwan don't have information of Coal\n",
      "Trinidad & Tobago don't have information of Coal\n",
      "Turkey don't have information of Oil\n",
      "Turkey don't have information of Gas\n",
      "Turkmenistan don't have information of Coal\n",
      "Ukraine don't have information of Oil\n",
      "United Arab Emirates don't have information of Coal\n",
      "Western Africa don't have information of Oil\n",
      "Western Africa don't have information of Gas\n",
      "Western Africa don't have information of Coal\n"
     ]
    }
   ],
   "source": [
    "# Create the correlation table for all the countries\n",
    "a = pd.DataFrame([])\n",
    "m=0\n",
    "for j in Countries:\n",
    "    type_energy = []\n",
    "    n=0\n",
    "    Table = []\n",
    "    for i in Energy_type:\n",
    "        try:\n",
    "            Table.append(i.loc[j])\n",
    "            type_energy.append(energy[n])\n",
    "        except KeyError:\n",
    "            print(f\"{j} don't have information of {energy[n]}\")\n",
    "\n",
    "        n+=1\n",
    "\n",
    "    Table=pd.DataFrame(Table)\n",
    "    Table.index=type_energy\n",
    "    Table = Table[(Table.T != 0).any()]\n",
    "    Table=Table.transpose()\n",
    "    x = Table.corr()\n",
    "    x = x.tail(1)\n",
    "    x.replace({1.0:j}, inplace=True)\n",
    "    a = a.append(x)\n",
    "    m+=1\n"
   ]
  },
  {
   "cell_type": "code",
   "execution_count": 108,
   "metadata": {},
   "outputs": [
    {
     "data": {
      "text/html": [
       "<div>\n",
       "<style scoped>\n",
       "    .dataframe tbody tr th:only-of-type {\n",
       "        vertical-align: middle;\n",
       "    }\n",
       "\n",
       "    .dataframe tbody tr th {\n",
       "        vertical-align: top;\n",
       "    }\n",
       "\n",
       "    .dataframe thead th {\n",
       "        text-align: right;\n",
       "    }\n",
       "</style>\n",
       "<table border=\"1\" class=\"dataframe\">\n",
       "  <thead>\n",
       "    <tr style=\"text-align: right;\">\n",
       "      <th></th>\n",
       "      <th>Coal</th>\n",
       "      <th>Gas</th>\n",
       "      <th>Hydro</th>\n",
       "      <th>Nuclear</th>\n",
       "      <th>Oil</th>\n",
       "      <th>Other</th>\n",
       "      <th>Solar</th>\n",
       "      <th>Wind</th>\n",
       "    </tr>\n",
       "    <tr>\n",
       "      <th>Countries</th>\n",
       "      <th></th>\n",
       "      <th></th>\n",
       "      <th></th>\n",
       "      <th></th>\n",
       "      <th></th>\n",
       "      <th></th>\n",
       "      <th></th>\n",
       "      <th></th>\n",
       "    </tr>\n",
       "  </thead>\n",
       "  <tbody>\n",
       "    <tr>\n",
       "      <td>Algeria</td>\n",
       "      <td>NaN</td>\n",
       "      <td>0.84299</td>\n",
       "      <td>-0.549425</td>\n",
       "      <td>NaN</td>\n",
       "      <td>0.699166</td>\n",
       "      <td>NaN</td>\n",
       "      <td>0.50525</td>\n",
       "      <td>0.53159</td>\n",
       "    </tr>\n",
       "    <tr>\n",
       "      <td>Argentina</td>\n",
       "      <td>NaN</td>\n",
       "      <td>0.819794</td>\n",
       "      <td>0.847522</td>\n",
       "      <td>0.653756</td>\n",
       "      <td>0.484824</td>\n",
       "      <td>0.964978</td>\n",
       "      <td>0.455181</td>\n",
       "      <td>0.695389</td>\n",
       "    </tr>\n",
       "    <tr>\n",
       "      <td>Australia</td>\n",
       "      <td>0.949359</td>\n",
       "      <td>0.814699</td>\n",
       "      <td>0.69996</td>\n",
       "      <td>NaN</td>\n",
       "      <td>0.477021</td>\n",
       "      <td>0.848147</td>\n",
       "      <td>0.481691</td>\n",
       "      <td>0.629848</td>\n",
       "    </tr>\n",
       "    <tr>\n",
       "      <td>Austria</td>\n",
       "      <td>NaN</td>\n",
       "      <td>NaN</td>\n",
       "      <td>0.680002</td>\n",
       "      <td>NaN</td>\n",
       "      <td>NaN</td>\n",
       "      <td>0.595616</td>\n",
       "      <td>0.141636</td>\n",
       "      <td>0.338333</td>\n",
       "    </tr>\n",
       "    <tr>\n",
       "      <td>Azerbaijan</td>\n",
       "      <td>NaN</td>\n",
       "      <td>0.686373</td>\n",
       "      <td>0.682382</td>\n",
       "      <td>NaN</td>\n",
       "      <td>0.510038</td>\n",
       "      <td>0.183724</td>\n",
       "      <td>0.13945</td>\n",
       "      <td>0.111736</td>\n",
       "    </tr>\n",
       "    <tr>\n",
       "      <td>...</td>\n",
       "      <td>...</td>\n",
       "      <td>...</td>\n",
       "      <td>...</td>\n",
       "      <td>...</td>\n",
       "      <td>...</td>\n",
       "      <td>...</td>\n",
       "      <td>...</td>\n",
       "      <td>...</td>\n",
       "    </tr>\n",
       "    <tr>\n",
       "      <td>United Kingdom</td>\n",
       "      <td>0.64374</td>\n",
       "      <td>-0.195668</td>\n",
       "      <td>-0.677552</td>\n",
       "      <td>-0.64236</td>\n",
       "      <td>-0.396994</td>\n",
       "      <td>-0.823511</td>\n",
       "      <td>-0.692446</td>\n",
       "      <td>-0.777072</td>\n",
       "    </tr>\n",
       "    <tr>\n",
       "      <td>Uzbekistan</td>\n",
       "      <td>0.430912</td>\n",
       "      <td>0.971524</td>\n",
       "      <td>0.969875</td>\n",
       "      <td>NaN</td>\n",
       "      <td>0.848521</td>\n",
       "      <td>NaN</td>\n",
       "      <td>NaN</td>\n",
       "      <td>NaN</td>\n",
       "    </tr>\n",
       "    <tr>\n",
       "      <td>Venezuela</td>\n",
       "      <td>0.306778</td>\n",
       "      <td>0.90966</td>\n",
       "      <td>0.961592</td>\n",
       "      <td>NaN</td>\n",
       "      <td>-0.166928</td>\n",
       "      <td>NaN</td>\n",
       "      <td>0.435175</td>\n",
       "      <td>0.174111</td>\n",
       "    </tr>\n",
       "    <tr>\n",
       "      <td>Vietnam</td>\n",
       "      <td>0.880569</td>\n",
       "      <td>0.955017</td>\n",
       "      <td>0.978323</td>\n",
       "      <td>NaN</td>\n",
       "      <td>0.734908</td>\n",
       "      <td>0.863412</td>\n",
       "      <td>0.509448</td>\n",
       "      <td>0.834941</td>\n",
       "    </tr>\n",
       "    <tr>\n",
       "      <td>Western Africa</td>\n",
       "      <td>NaN</td>\n",
       "      <td>NaN</td>\n",
       "      <td>0.899876</td>\n",
       "      <td>NaN</td>\n",
       "      <td>NaN</td>\n",
       "      <td>0.923114</td>\n",
       "      <td>0.675376</td>\n",
       "      <td>0.759627</td>\n",
       "    </tr>\n",
       "  </tbody>\n",
       "</table>\n",
       "<p>92 rows × 8 columns</p>\n",
       "</div>"
      ],
      "text/plain": [
       "                    Coal       Gas     Hydro   Nuclear       Oil     Other  \\\n",
       "Countries                                                                    \n",
       "Algeria              NaN   0.84299 -0.549425       NaN  0.699166       NaN   \n",
       "Argentina            NaN  0.819794  0.847522  0.653756  0.484824  0.964978   \n",
       "Australia       0.949359  0.814699   0.69996       NaN  0.477021  0.848147   \n",
       "Austria              NaN       NaN  0.680002       NaN       NaN  0.595616   \n",
       "Azerbaijan           NaN  0.686373  0.682382       NaN  0.510038  0.183724   \n",
       "...                  ...       ...       ...       ...       ...       ...   \n",
       "United Kingdom   0.64374 -0.195668 -0.677552  -0.64236 -0.396994 -0.823511   \n",
       "Uzbekistan      0.430912  0.971524  0.969875       NaN  0.848521       NaN   \n",
       "Venezuela       0.306778   0.90966  0.961592       NaN -0.166928       NaN   \n",
       "Vietnam         0.880569  0.955017  0.978323       NaN  0.734908  0.863412   \n",
       "Western Africa       NaN       NaN  0.899876       NaN       NaN  0.923114   \n",
       "\n",
       "                   Solar      Wind  \n",
       "Countries                           \n",
       "Algeria          0.50525   0.53159  \n",
       "Argentina       0.455181  0.695389  \n",
       "Australia       0.481691  0.629848  \n",
       "Austria         0.141636  0.338333  \n",
       "Azerbaijan       0.13945  0.111736  \n",
       "...                  ...       ...  \n",
       "United Kingdom -0.692446 -0.777072  \n",
       "Uzbekistan           NaN       NaN  \n",
       "Venezuela       0.435175  0.174111  \n",
       "Vietnam         0.509448  0.834941  \n",
       "Western Africa  0.675376  0.759627  \n",
       "\n",
       "[92 rows x 8 columns]"
      ]
     },
     "metadata": {},
     "output_type": "display_data"
    }
   ],
   "source": [
    "# Set the correlation with Carbon for each countrie\n",
    "a.rename(columns={'Carbon':'Countries'}, inplace =True)\n",
    "a.set_index('Countries', inplace=True)\n",
    "display(a)"
   ]
  },
  {
   "cell_type": "code",
   "execution_count": 154,
   "metadata": {},
   "outputs": [
    {
     "data": {
      "image/png": "[encoded data removed]",
      "text/plain": [
       "<Figure size 432x288 with 1 Axes>"
      ]
     },
     "metadata": {
      "needs_background": "light"
     },
     "output_type": "display_data"
    }
   ],
   "source": [
    "for i in range(0,len(a.columns)):\n",
    "    plt.scatter(a.iloc[:,i],a.index, alpha=0.5)\n",
    "    plt.legend(energy,bbox_to_anchor=(1.02,1.025), loc=\"upper left\")\n",
    "    plt.yticks('')\n",
    "    plt.title('Energy correlation with Carbon Emission')"
   ]
  },
  {
   "cell_type": "code",
   "execution_count": null,
   "metadata": {},
   "outputs": [],
   "source": []
  }
 ],
 "metadata": {
  "kernelspec": {
   "display_name": "Python 3",
   "language": "python",
   "name": "python3"
  },
  "language_info": {
   "codemirror_mode": {
    "name": "ipython",
    "version": 3
   },
   "file_extension": ".py",
   "mimetype": "text/x-python",
   "name": "python",
   "nbconvert_exporter": "python",
   "pygments_lexer": "ipython3",
   "version": "3.7.4"
  }
 },
 "nbformat": 4,
 "nbformat_minor": 2
}
